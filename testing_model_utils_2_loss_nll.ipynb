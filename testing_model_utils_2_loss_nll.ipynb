{
  "nbformat": 4,
  "nbformat_minor": 0,
  "metadata": {
    "colab": {
      "provenance": [],
      "authorship_tag": "ABX9TyP9dGwRG1vaHDHKqG7kUtTe",
      "include_colab_link": true
    },
    "kernelspec": {
      "name": "python3",
      "display_name": "Python 3"
    },
    "language_info": {
      "name": "python"
    }
  },
  "cells": [
    {
      "cell_type": "markdown",
      "metadata": {
        "id": "view-in-github",
        "colab_type": "text"
      },
      "source": [
        "<a href=\"https://colab.research.google.com/github/hadwin-357/ProteinMPNN_breakdown/blob/main/testing_model_utils_2_loss_nll.ipynb\" target=\"_parent\"><img src=\"https://colab.research.google.com/assets/colab-badge.svg\" alt=\"Open In Colab\"/></a>"
      ]
    },
    {
      "cell_type": "code",
      "execution_count": 1,
      "metadata": {
        "colab": {
          "base_uri": "https://localhost:8080/",
          "height": 107
        },
        "id": "yPkMV0tnzBD7",
        "outputId": "4cc0f0f4-58cc-46ed-b6b5-47ad51c5f85a"
      },
      "outputs": [
        {
          "output_type": "execute_result",
          "data": {
            "text/plain": [
              "'\\ninputs-  S ground truth, log_probs: calculated logprob, mask: position mask(if masked 1, else 0))\\n\\n\\nFunction explain:\\ncompare to loss_smooth(used in training), this functioni is used in final step to calculate loss (so regularization is not needed)\\nuse NLLLoss \\nreshape log_probs and S into 2D to fit NLLLoss inputs requirement to calculate loss\\nS_argmaxed: output predicted logits\\ntrue_false: 1 or true, 0.0 for false\\ncalculate average loss for masked position\\ncaclaculate average loss\\n'"
            ],
            "application/vnd.google.colaboratory.intrinsic+json": {
              "type": "string"
            }
          },
          "metadata": {},
          "execution_count": 1
        }
      ],
      "source": [
        "# testing_model_util_functions\n",
        "# loss_null\n",
        "'''\n",
        "inputs-  S ground truth, log_probs: calculated logprob, mask: position mask(if masked 1, else 0))\n",
        "\n",
        "\n",
        "Function explain:\n",
        "compare to loss_smooth(used in training), this functioni is used in final step to calculate loss (so regularization is not needed)\n",
        "use NLLLoss\n",
        "reshape log_probs and S into 2D to fit NLLLoss inputs requirement to calculate loss\n",
        "S_argmaxed: output predicted logits\n",
        "true_false: 1 or true, 0.0 for false\n",
        "calculate average loss for masked position\n",
        "caclaculate average loss\n",
        "'''"
      ]
    },
    {
      "cell_type": "code",
      "source": [
        "import torch"
      ],
      "metadata": {
        "id": "STq8LcstzG8O"
      },
      "execution_count": 2,
      "outputs": []
    },
    {
      "cell_type": "code",
      "source": [
        "def loss_nll(S, log_probs, mask):\n",
        "    \"\"\" Negative log probabilities \"\"\"\n",
        "    criterion = torch.nn.NLLLoss(reduction='none')\n",
        "    loss = criterion(\n",
        "        log_probs.contiguous().view(-1, log_probs.size(-1)), S.contiguous().view(-1)\n",
        "    ).view(S.size())\n",
        "    S_argmaxed = torch.argmax(log_probs,-1) #[B, L]\n",
        "    true_false = (S == S_argmaxed).float()\n",
        "    loss_av = torch.sum(loss * mask) / torch.sum(mask)\n",
        "    return loss, loss_av, true_false"
      ],
      "metadata": {
        "id": "bFCruk_szHWN"
      },
      "execution_count": 3,
      "outputs": []
    },
    {
      "cell_type": "code",
      "source": [
        "# break down\n",
        "# S is the ground truth\n",
        "\n",
        "\n",
        "# Example ground truth labels\n",
        "# Suppose you have a batch size of 4 and sequence length of 10\n",
        "batch_size = 4\n",
        "sequence_length = 10\n",
        "num_classes = 21  # Assuming 21 classes\n",
        "\n",
        "# Create random ground truth labels\n",
        "S = torch.randint(0, num_classes, (batch_size, sequence_length))\n",
        "\n",
        "# Verify the shape and data type of S\n",
        "print(\"Shape of S:\", S.shape)\n",
        "print(\"Data type of S:\", S.dtype)"
      ],
      "metadata": {
        "colab": {
          "base_uri": "https://localhost:8080/"
        },
        "id": "i_zYdIYwzKch",
        "outputId": "c1d832c2-9224-4501-8fae-b81a2c983dad"
      },
      "execution_count": 4,
      "outputs": [
        {
          "output_type": "stream",
          "name": "stdout",
          "text": [
            "Shape of S: torch.Size([4, 10])\n",
            "Data type of S: torch.int64\n"
          ]
        }
      ]
    },
    {
      "cell_type": "code",
      "source": [
        "# Create random logits (predicted probabilities)\n",
        "log_probs = torch.randn(batch_size, sequence_length, num_classes)\n",
        "\n",
        "# Verify the shape and data type of logits\n",
        "print(\"Shape of log_probs:\", log_probs.shape)\n",
        "print(\"Data type of log_probs:\", log_probs.dtype)"
      ],
      "metadata": {
        "colab": {
          "base_uri": "https://localhost:8080/"
        },
        "id": "zHGmnJWGzPvV",
        "outputId": "7827fe9b-d613-4537-8d40-0679b444dd0c"
      },
      "execution_count": 5,
      "outputs": [
        {
          "output_type": "stream",
          "name": "stdout",
          "text": [
            "Shape of log_probs: torch.Size([4, 10, 21])\n",
            "Data type of log_probs: torch.float32\n"
          ]
        }
      ]
    },
    {
      "cell_type": "code",
      "source": [
        "log_probs.contiguous().view(-1, log_probs.size(-1)).shape"
      ],
      "metadata": {
        "colab": {
          "base_uri": "https://localhost:8080/"
        },
        "id": "mhSUDwd8zbLJ",
        "outputId": "8155bece-8d8f-4b18-a3ed-d5184d5f4db1"
      },
      "execution_count": 6,
      "outputs": [
        {
          "output_type": "execute_result",
          "data": {
            "text/plain": [
              "torch.Size([40, 21])"
            ]
          },
          "metadata": {},
          "execution_count": 6
        }
      ]
    },
    {
      "cell_type": "code",
      "source": [
        "S.contiguous().view(-1).shape"
      ],
      "metadata": {
        "colab": {
          "base_uri": "https://localhost:8080/"
        },
        "id": "uo740hur2Iwa",
        "outputId": "cf386ac3-fe3a-4e34-bb40-3b8735d3375a"
      },
      "execution_count": 7,
      "outputs": [
        {
          "output_type": "execute_result",
          "data": {
            "text/plain": [
              "torch.Size([40])"
            ]
          },
          "metadata": {},
          "execution_count": 7
        }
      ]
    },
    {
      "cell_type": "code",
      "source": [
        "criterion = torch.nn.NLLLoss(reduction='none')\n",
        "loss = criterion(\n",
        "    log_probs.contiguous().view(-1, log_probs.size(-1)), S.contiguous().view(-1)\n",
        ").view(S.size())"
      ],
      "metadata": {
        "id": "yBwe1-vV2S2v"
      },
      "execution_count": 8,
      "outputs": []
    },
    {
      "cell_type": "code",
      "source": [
        "loss.shape"
      ],
      "metadata": {
        "colab": {
          "base_uri": "https://localhost:8080/"
        },
        "id": "D3nXclmU2Zei",
        "outputId": "3d18f276-2b12-4990-955c-92caa98fd7e7"
      },
      "execution_count": 9,
      "outputs": [
        {
          "output_type": "execute_result",
          "data": {
            "text/plain": [
              "torch.Size([4, 10])"
            ]
          },
          "metadata": {},
          "execution_count": 9
        }
      ]
    },
    {
      "cell_type": "code",
      "source": [
        "loss[0,:]  # loss of each residues in batch 0"
      ],
      "metadata": {
        "colab": {
          "base_uri": "https://localhost:8080/"
        },
        "id": "i-Mpk8gk2age",
        "outputId": "971fee80-5fe3-4758-cff4-efe29e506c34"
      },
      "execution_count": 10,
      "outputs": [
        {
          "output_type": "execute_result",
          "data": {
            "text/plain": [
              "tensor([ 0.1130, -0.4759, -1.5217,  0.3597,  0.0932,  0.2528,  1.6670,  1.2122,\n",
              "        -0.2960,  1.3142])"
            ]
          },
          "metadata": {},
          "execution_count": 10
        }
      ]
    },
    {
      "cell_type": "code",
      "source": [
        "S_argmaxed = torch.argmax(log_probs,-1) #[B, L]\n",
        "S_argmaxed.shape"
      ],
      "metadata": {
        "colab": {
          "base_uri": "https://localhost:8080/"
        },
        "id": "T0ogKyUS2hKo",
        "outputId": "27f4fc92-1882-44d5-8df5-3b1888e2f2ee"
      },
      "execution_count": 12,
      "outputs": [
        {
          "output_type": "execute_result",
          "data": {
            "text/plain": [
              "torch.Size([4, 10])"
            ]
          },
          "metadata": {},
          "execution_count": 12
        }
      ]
    },
    {
      "cell_type": "code",
      "source": [
        "S_argmaxed[0,:] # [predicted logits/residue class"
      ],
      "metadata": {
        "colab": {
          "base_uri": "https://localhost:8080/"
        },
        "id": "leKUATBU2rXt",
        "outputId": "4c8073a0-d847-4905-8013-2e538c4c3804"
      },
      "execution_count": 13,
      "outputs": [
        {
          "output_type": "execute_result",
          "data": {
            "text/plain": [
              "tensor([18,  2, 20, 17,  0, 15, 12, 17,  4,  0])"
            ]
          },
          "metadata": {},
          "execution_count": 13
        }
      ]
    },
    {
      "cell_type": "code",
      "source": [
        "true_false = (S == S_argmaxed).float()\n",
        "true_false[0,:]"
      ],
      "metadata": {
        "colab": {
          "base_uri": "https://localhost:8080/"
        },
        "id": "Bc7BIkyh26Ec",
        "outputId": "e05fd362-2094-4218-a9c4-77b0fb9baf29"
      },
      "execution_count": 14,
      "outputs": [
        {
          "output_type": "execute_result",
          "data": {
            "text/plain": [
              "tensor([0., 0., 0., 0., 0., 0., 0., 0., 0., 0.])"
            ]
          },
          "metadata": {},
          "execution_count": 14
        }
      ]
    },
    {
      "cell_type": "code",
      "source": [],
      "metadata": {
        "id": "7xSyMaIR3B_B"
      },
      "execution_count": null,
      "outputs": []
    }
  ]
}