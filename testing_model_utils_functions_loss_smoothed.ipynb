{
  "nbformat": 4,
  "nbformat_minor": 0,
  "metadata": {
    "colab": {
      "provenance": [],
      "authorship_tag": "ABX9TyOZZ4vPuEnyd3uBu3YuDVfw",
      "include_colab_link": true
    },
    "kernelspec": {
      "name": "python3",
      "display_name": "Python 3"
    },
    "language_info": {
      "name": "python"
    }
  },
  "cells": [
    {
      "cell_type": "markdown",
      "metadata": {
        "id": "view-in-github",
        "colab_type": "text"
      },
      "source": [
        "<a href=\"https://colab.research.google.com/github/hadwin-357/ProteinMPNN_breakdown/blob/main/testing_model_utils_functions_loss_smoothed.ipynb\" target=\"_parent\"><img src=\"https://colab.research.google.com/assets/colab-badge.svg\" alt=\"Open In Colab\"/></a>"
      ]
    },
    {
      "cell_type": "code",
      "execution_count": 1,
      "metadata": {
        "id": "zANfnKKFkw_B"
      },
      "outputs": [],
      "source": [
        "# testing_model_util_functions\n",
        "# loss_smooth function\n",
        "'''\n",
        "inputs-  S ground truth, log_probs: calculated logprob, mask: position mask(if masked 1, else 0),\n",
        "weights: smoothing labeling weights (regularization parameteres)\n",
        "\n",
        "Function explain\n",
        "Turn grond truth into a onehot encode\n",
        "add noise to onehot encode, then normalize (regularization)\n",
        "calculate loss  (similar to cross entropy)\n",
        "caclaculate average loss\n",
        "'''"
      ]
    },
    {
      "cell_type": "code",
      "source": [
        "import torch"
      ],
      "metadata": {
        "id": "dMaApxtXk99Z"
      },
      "execution_count": 3,
      "outputs": []
    },
    {
      "cell_type": "code",
      "source": [
        "def loss_smoothed(S, log_probs, mask, weight=0.1):\n",
        "    \"\"\" Negative log probabilities \"\"\"\n",
        "    S_onehot = torch.nn.functional.one_hot(S, 21).float()\n",
        "\n",
        "    # Label smoothing\n",
        "    S_onehot = S_onehot + weight / float(S_onehot.size(-1))\n",
        "    S_onehot = S_onehot / S_onehot.sum(-1, keepdim=True)\n",
        "\n",
        "    loss = -(S_onehot * log_probs).sum(-1)\n",
        "    loss_av = torch.sum(loss * mask) / 2000.0 #fixed\n",
        "    return loss, loss_av"
      ],
      "metadata": {
        "id": "DcyfwRO9k1ty"
      },
      "execution_count": 4,
      "outputs": []
    },
    {
      "cell_type": "code",
      "source": [
        "# break down\n",
        "# S is the ground truth\n",
        "\n",
        "\n",
        "# Example ground truth labels\n",
        "# Suppose you have a batch size of 4 and sequence length of 10\n",
        "batch_size = 4\n",
        "sequence_length = 10\n",
        "num_classes = 21  # Assuming 21 classes\n",
        "\n",
        "# Create random ground truth labels\n",
        "S = torch.randint(0, num_classes, (batch_size, sequence_length))\n",
        "\n",
        "# Verify the shape and data type of S\n",
        "print(\"Shape of S:\", S.shape)\n",
        "print(\"Data type of S:\", S.dtype)\n"
      ],
      "metadata": {
        "colab": {
          "base_uri": "https://localhost:8080/"
        },
        "id": "npfxOuzOk6QK",
        "outputId": "f5cfb219-c0a6-4c05-e406-462077175aaf"
      },
      "execution_count": 5,
      "outputs": [
        {
          "output_type": "stream",
          "name": "stdout",
          "text": [
            "Shape of S: torch.Size([4, 10])\n",
            "Data type of S: torch.int64\n"
          ]
        }
      ]
    },
    {
      "cell_type": "code",
      "source": [
        "S_onehot = torch.nn.functional.one_hot(S, 21).float()\n",
        "S_onehot.shape"
      ],
      "metadata": {
        "colab": {
          "base_uri": "https://localhost:8080/"
        },
        "id": "RFWcz83umEJt",
        "outputId": "f66aabc9-9a4b-415f-8808-9192c30a11ab"
      },
      "execution_count": 9,
      "outputs": [
        {
          "output_type": "execute_result",
          "data": {
            "text/plain": [
              "torch.Size([4, 10, 21])"
            ]
          },
          "metadata": {},
          "execution_count": 9
        }
      ]
    },
    {
      "cell_type": "code",
      "source": [
        "# Label smoothing/Regularization\n",
        "weight=0.1\n",
        "S_onehot = S_onehot + weight / float(S_onehot.size(-1))\n",
        "S_onehot[0,0,:]"
      ],
      "metadata": {
        "colab": {
          "base_uri": "https://localhost:8080/"
        },
        "id": "MlKGVBdLmIYW",
        "outputId": "1e88bb20-262b-4303-a404-ffbb9620565e"
      },
      "execution_count": 10,
      "outputs": [
        {
          "output_type": "execute_result",
          "data": {
            "text/plain": [
              "tensor([0.0048, 0.0048, 0.0048, 0.0048, 0.0048, 0.0048, 0.0048, 0.0048, 0.0048,\n",
              "        0.0048, 0.0048, 0.0048, 0.0048, 1.0048, 0.0048, 0.0048, 0.0048, 0.0048,\n",
              "        0.0048, 0.0048, 0.0048])"
            ]
          },
          "metadata": {},
          "execution_count": 10
        }
      ]
    },
    {
      "cell_type": "code",
      "source": [
        "#normalized so that all probilities add up to 1\n",
        "S_onehot = S_onehot / S_onehot.sum(-1, keepdim=True)\n",
        "S_onehot[0,0,:]\n"
      ],
      "metadata": {
        "colab": {
          "base_uri": "https://localhost:8080/"
        },
        "id": "E6_00nx0my7o",
        "outputId": "bfe19d47-34eb-4124-b88f-d5df5f3d9512"
      },
      "execution_count": 11,
      "outputs": [
        {
          "output_type": "execute_result",
          "data": {
            "text/plain": [
              "tensor([0.0043, 0.0043, 0.0043, 0.0043, 0.0043, 0.0043, 0.0043, 0.0043, 0.0043,\n",
              "        0.0043, 0.0043, 0.0043, 0.0043, 0.9134, 0.0043, 0.0043, 0.0043, 0.0043,\n",
              "        0.0043, 0.0043, 0.0043])"
            ]
          },
          "metadata": {},
          "execution_count": 11
        }
      ]
    },
    {
      "cell_type": "code",
      "source": [
        "# Example predicted probabilities (logits)\n",
        "# Suppose you have a batch size of 4, sequence length of 10, and 21 classes\n",
        "batch_size = 4\n",
        "sequence_length = 10\n",
        "num_classes = 21\n",
        "\n",
        "# Create random logits (predicted probabilities)\n",
        "logits = torch.randn(batch_size, sequence_length, num_classes)\n",
        "\n",
        "# Verify the shape and data type of logits\n",
        "print(\"Shape of logits:\", logits.shape)\n",
        "print(\"Data type of logits:\", logits.dtype)\n"
      ],
      "metadata": {
        "colab": {
          "base_uri": "https://localhost:8080/"
        },
        "id": "xgzgh3_9nNi3",
        "outputId": "81ffedc3-8476-40bc-dcf1-e3465cdcc55a"
      },
      "execution_count": 13,
      "outputs": [
        {
          "output_type": "stream",
          "name": "stdout",
          "text": [
            "Shape of logits: torch.Size([4, 10, 21])\n",
            "Data type of logits: torch.float32\n"
          ]
        }
      ]
    },
    {
      "cell_type": "code",
      "source": [
        "logits[0,0,:]"
      ],
      "metadata": {
        "colab": {
          "base_uri": "https://localhost:8080/"
        },
        "id": "fJlbLV6WnUMx",
        "outputId": "fbfbb520-1f68-43df-e1ba-8229bf2af429"
      },
      "execution_count": 14,
      "outputs": [
        {
          "output_type": "execute_result",
          "data": {
            "text/plain": [
              "tensor([-0.1022, -0.4064,  0.6391, -0.7980, -0.0428, -0.5432, -0.8819, -0.2547,\n",
              "         0.1194, -1.0239, -0.0670, -0.4794,  0.7475,  0.7643, -2.1898, -0.1602,\n",
              "         0.8382, -0.5503, -0.2953, -0.9511,  0.4750])"
            ]
          },
          "metadata": {},
          "execution_count": 14
        }
      ]
    },
    {
      "cell_type": "code",
      "source": [
        "log_probs=logits\n",
        "loss = -(S_onehot * log_probs).sum(-1) #\n",
        "loss.shape"
      ],
      "metadata": {
        "colab": {
          "base_uri": "https://localhost:8080/"
        },
        "id": "PDzbtj15n4Ya",
        "outputId": "727f18a7-6d36-42c9-c497-ab01da5e0474"
      },
      "execution_count": 15,
      "outputs": [
        {
          "output_type": "execute_result",
          "data": {
            "text/plain": [
              "torch.Size([4, 10])"
            ]
          },
          "metadata": {},
          "execution_count": 15
        }
      ]
    },
    {
      "cell_type": "code",
      "source": [
        "# Example mask\n",
        "# Suppose you have a batch size of 4 and sequence length of 10\n",
        "batch_size = 4\n",
        "sequence_length = 10\n",
        "\n",
        "# Create a random mask where only the first 8 positions are valid\n",
        "mask = torch.zeros(batch_size, sequence_length, dtype=torch.bool)\n",
        "mask[:, :8] = True\n",
        "\n",
        "# Verify the shape and data type of mask\n",
        "print(\"Shape of mask:\", mask.shape)\n",
        "print(\"Data type of mask:\", mask.dtype)\n"
      ],
      "metadata": {
        "colab": {
          "base_uri": "https://localhost:8080/"
        },
        "id": "0Hs2ERDKpVnm",
        "outputId": "251750a7-e8fe-4a8d-8b2f-4cac122c6422"
      },
      "execution_count": 16,
      "outputs": [
        {
          "output_type": "stream",
          "name": "stdout",
          "text": [
            "Shape of mask: torch.Size([4, 10])\n",
            "Data type of mask: torch.bool\n"
          ]
        }
      ]
    },
    {
      "cell_type": "code",
      "source": [
        "loss_av = torch.sum(loss * mask) / 2000.0"
      ],
      "metadata": {
        "id": "gJb9foOQqVUm"
      },
      "execution_count": 17,
      "outputs": []
    },
    {
      "cell_type": "code",
      "source": [
        "loss_av"
      ],
      "metadata": {
        "colab": {
          "base_uri": "https://localhost:8080/"
        },
        "id": "SkDB5NnBqfRD",
        "outputId": "b06c2fb9-acc1-4d9d-9ae7-5094485d57dc"
      },
      "execution_count": 18,
      "outputs": [
        {
          "output_type": "execute_result",
          "data": {
            "text/plain": [
              "tensor(-0.0020)"
            ]
          },
          "metadata": {},
          "execution_count": 18
        }
      ]
    },
    {
      "cell_type": "code",
      "source": [],
      "metadata": {
        "id": "lRW_O4gwqgQp"
      },
      "execution_count": null,
      "outputs": []
    }
  ]
}