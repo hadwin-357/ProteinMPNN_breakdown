{
  "nbformat": 4,
  "nbformat_minor": 0,
  "metadata": {
    "colab": {
      "provenance": [],
      "authorship_tag": "ABX9TyNLQ9jA+PGQCnFynbr9+qbu",
      "include_colab_link": true
    },
    "kernelspec": {
      "name": "python3",
      "display_name": "Python 3"
    },
    "language_info": {
      "name": "python"
    }
  },
  "cells": [
    {
      "cell_type": "markdown",
      "metadata": {
        "id": "view-in-github",
        "colab_type": "text"
      },
      "source": [
        "<a href=\"https://colab.research.google.com/github/hadwin-357/ProteinMPNN_breakdown/blob/main/model_utils_function_4_gather_nodes.ipynb\" target=\"_parent\"><img src=\"https://colab.research.google.com/assets/colab-badge.svg\" alt=\"Open In Colab\"/></a>"
      ]
    },
    {
      "cell_type": "code",
      "execution_count": null,
      "metadata": {
        "id": "46rEfhvu_YXq"
      },
      "outputs": [],
      "source": [
        "#test model utils function\n",
        "# graphic neuro network function\n",
        "# gether edge\n",
        "'''\n",
        "inputs:  edges (B, N, N, C) # Batch, node, node, feature  # this is a fully connected, self looped GNN\n",
        "neighbor_idx (B, N, K) # Batch, node, index for k-nearest neighbors\n",
        "\n",
        "Return:\n",
        "Based on N (node index), K(neighbor, index)to gather according features from edges (B, N, K, C)\n",
        "'''"
      ]
    },
    {
      "cell_type": "code",
      "source": [
        "def gather_nodes(nodes, neighbor_idx):\n",
        "    # Features [B,N,C] at Neighbor indices [B,N,K] => [B,N,K,C]\n",
        "    # Flatten and expand indices per batch [B,N,K] => [B,NK] => [B,NK,C]\n",
        "    neighbors_flat = neighbor_idx.view((neighbor_idx.shape[0], -1)) # [B,N,K] => [B,NK]\n",
        "    neighbors_flat = neighbors_flat.unsqueeze(-1).expand(-1, -1, nodes.size(2))  #[B,NK] => [B,NK,C]\n",
        "    # Gather and re-pack\n",
        "    neighbor_features = torch.gather(nodes, 1, neighbors_flat)\n",
        "    neighbor_features = neighbor_features.view(list(neighbor_idx.shape)[:3] + [-1])  # [B,N,K,]\n",
        "    return neighbor_features"
      ],
      "metadata": {
        "id": "SbVEf0YP_yQu"
      },
      "execution_count": 4,
      "outputs": []
    },
    {
      "cell_type": "code",
      "source": [
        "import torch\n",
        "# Create random node features\n",
        "nodes = torch.randn(2, 3, 2)  # Batch size = 2, Number of nodes = 3, Number of features = 2\n",
        "\n",
        "# Create random neighbor indices\n",
        "neighbor_idx = torch.randint(0, 3, (2, 3, 2))  # Batch size = 2, Number of nodes = 3, Number of neighbors = 2"
      ],
      "metadata": {
        "id": "1boOto14_zmb"
      },
      "execution_count": 5,
      "outputs": []
    },
    {
      "cell_type": "code",
      "source": [
        "neighbor_features = gather_nodes(nodes, neighbor_idx)\n",
        "\n",
        "print(\"Shape of neighbor_features:\", neighbor_features.shape)\n",
        "print(\"neighbor_features tensor:\")\n",
        "print(neighbor_features)"
      ],
      "metadata": {
        "colab": {
          "base_uri": "https://localhost:8080/"
        },
        "id": "DNO8_oUQAFak",
        "outputId": "a0773968-ebf4-43cc-e966-a6c909b57be4"
      },
      "execution_count": 6,
      "outputs": [
        {
          "output_type": "stream",
          "name": "stdout",
          "text": [
            "Shape of neighbor_features: torch.Size([2, 3, 2, 2])\n",
            "neighbor_features tensor:\n",
            "tensor([[[[-0.6743,  0.3180],\n",
            "          [ 0.4900,  0.2105]],\n",
            "\n",
            "         [[-0.0015, -0.5057],\n",
            "          [ 0.4900,  0.2105]],\n",
            "\n",
            "         [[-0.6743,  0.3180],\n",
            "          [-0.0015, -0.5057]]],\n",
            "\n",
            "\n",
            "        [[[ 0.5504, -1.0023],\n",
            "          [-0.5935, -0.2101]],\n",
            "\n",
            "         [[-0.1746, -0.2861],\n",
            "          [ 0.5504, -1.0023]],\n",
            "\n",
            "         [[ 0.5504, -1.0023],\n",
            "          [ 0.5504, -1.0023]]]])\n"
          ]
        }
      ]
    },
    {
      "cell_type": "code",
      "source": [
        "#verfiy\n",
        "neighbor_idx[0,0,:] # node 0's neighbor index\n"
      ],
      "metadata": {
        "colab": {
          "base_uri": "https://localhost:8080/"
        },
        "id": "zyOCVuo6BA55",
        "outputId": "0a1d09a2-e862-4401-d7bd-ce9f280f54b6"
      },
      "execution_count": 9,
      "outputs": [
        {
          "output_type": "execute_result",
          "data": {
            "text/plain": [
              "tensor([0, 2])"
            ]
          },
          "metadata": {},
          "execution_count": 9
        }
      ]
    },
    {
      "cell_type": "code",
      "source": [
        "print(nodes[0,0,:]) # batch 0, node 0, node feature\n",
        "print(nodes[0,2,:]) # batch 0, node 2, node feature"
      ],
      "metadata": {
        "colab": {
          "base_uri": "https://localhost:8080/"
        },
        "id": "oYGUz7McBhoz",
        "outputId": "cfc5b23d-8370-4ed9-e671-a5d2884a799c"
      },
      "execution_count": 10,
      "outputs": [
        {
          "output_type": "stream",
          "name": "stdout",
          "text": [
            "tensor([-0.6743,  0.3180])\n",
            "tensor([0.4900, 0.2105])\n"
          ]
        }
      ]
    },
    {
      "cell_type": "code",
      "source": [
        "print(neighbor_features[0,0,:,:]) # bath 0, node 0, neighbor's node features"
      ],
      "metadata": {
        "colab": {
          "base_uri": "https://localhost:8080/"
        },
        "id": "FGLYMlbtBu1B",
        "outputId": "0fe071ef-d3d3-4b3e-af8f-fd10540cecf7"
      },
      "execution_count": 11,
      "outputs": [
        {
          "output_type": "stream",
          "name": "stdout",
          "text": [
            "tensor([[-0.6743,  0.3180],\n",
            "        [ 0.4900,  0.2105]])\n"
          ]
        }
      ]
    },
    {
      "cell_type": "code",
      "source": [],
      "metadata": {
        "id": "2fheDZ1sCKYX"
      },
      "execution_count": null,
      "outputs": []
    }
  ]
}