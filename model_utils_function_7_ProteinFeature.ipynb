{
  "nbformat": 4,
  "nbformat_minor": 0,
  "metadata": {
    "colab": {
      "provenance": [],
      "authorship_tag": "ABX9TyOKPtYRr4fUWIPm4Yl3hxvN",
      "include_colab_link": true
    },
    "kernelspec": {
      "name": "python3",
      "display_name": "Python 3"
    },
    "language_info": {
      "name": "python"
    }
  },
  "cells": [
    {
      "cell_type": "markdown",
      "metadata": {
        "id": "view-in-github",
        "colab_type": "text"
      },
      "source": [
        "<a href=\"https://colab.research.google.com/github/hadwin-357/ProteinMPNN_breakdown/blob/main/model_utils_function_7_ProteinFeature.ipynb\" target=\"_parent\"><img src=\"https://colab.research.google.com/assets/colab-badge.svg\" alt=\"Open In Colab\"/></a>"
      ]
    },
    {
      "cell_type": "markdown",
      "source": [
        "#test model utils function\n",
        "#ProteinFeature\n",
        "_dist : use ca cooridinates to calculate k-nearest CA- CA neighbor distance and idx\\\n",
        "_rbf : use ca k-nearest neighbor distance to encode through rbf kernel\\\n",
        "_get_rbf: similar to _rbf, but used for other atoms such as N C O CA\n",
        "## _dist function\n",
        "Arg: X [B, N, 1, 3] only CA dimension ; mask [B, N]\\\n",
        "Functiona explain:  1. make inter-residue mask-mask_2D\n",
        "2. calculate inter-residue distance   \n",
        "_2.1 calculate xi-xj, yi-yj, zi-zj \\\n",
        "_2.2 square the value \\\n",
        "_2.3 sum over x, y, z  note: in orignal code,  N CA C O dimension are extract individually, then do calcualtion\n",
        "3. extract the largest distance, and assign masked inter-resiude as the largest distance in D\n",
        "4. top pick k nearest neighbors\n",
        "5. output the k nearest distance and according neighbour idx\n",
        "\n",
        "Return:\n",
        "D_neighbors: k nearest distances\n",
        "E_idx: according neighbour idx\n"
      ],
      "metadata": {
        "id": "xd8wzAtWT23h"
      }
    },
    {
      "cell_type": "code",
      "source": [
        "def _dist(self, X, mask, eps=1E-6):\n",
        "    mask_2D = torch.unsqueeze(mask,1) * torch.unsqueeze(mask,2)\n",
        "    dX = torch.unsqueeze(X,1) - torch.unsqueeze(X,2)\n",
        "    D = mask_2D * torch.sqrt(torch.sum(dX**2, 3) + eps)\n",
        "    D_max, _ = torch.max(D, -1, keepdim=True)\n",
        "    D_adjust = D + (1. - mask_2D) * D_max\n",
        "    sampled_top_k = self.top_k\n",
        "    D_neighbors, E_idx = torch.topk(D_adjust, np.minimum(self.top_k, X.shape[1]), dim=-1, largest=False)\n",
        "    return D_neighbors, E_idx"
      ],
      "metadata": {
        "id": "Pm0cQRRkaKOt"
      },
      "execution_count": null,
      "outputs": []
    },
    {
      "cell_type": "code",
      "source": [
        "from model_utils import featurize\n",
        "import torch\n",
        "import numpy as np\n",
        "\n",
        "batch = [\n",
        "    {\n",
        "        'seq_chain_A': 'MKLVFLVLLVFVQGFG',\n",
        "        'coords_chain_A': {'N_chain_A': np.random.rand(16, 3), 'CA_chain_A': np.random.rand(16, 3), 'C_chain_A': np.random.rand(16, 3), 'O_chain_A': np.random.rand(16, 3)},\n",
        "        'seq_chain_B': 'MSVKVEEVG',\n",
        "        'coords_chain_B': {'N_chain_B': np.random.rand(9, 3), 'CA_chain_B': np.random.rand(9, 3), 'C_chain_B': np.random.rand(9, 3), 'O_chain_B': np.random.rand(9, 3)},\n",
        "        'seq_chain_C': 'ATCGATCGATCGATCG',\n",
        "        'coords_chain_C': {'N_chain_C': np.random.rand(16, 3), 'CA_chain_C': np.random.rand(16, 3), 'C_chain_C': np.random.rand(16, 3), 'O_chain_C': np.random.rand(16, 3)},\n",
        "        'masked_list': ['A', 'B'],\n",
        "        'visible_list': ['C'],\n",
        "        'num_of_chains': 3,\n",
        "        'seq': 'MKLVFLVLLVFVQGFG'+ 'MSVKVEEVG' + 'ATCGATCGATCGATCG'\n",
        "    },\n",
        "      {\n",
        "        'seq_chain_X': 'ACDEFGHIKLMNPQRSTVWY',\n",
        "        'coords_chain_X': {'N_chain_X': np.random.rand(20, 3), 'CA_chain_X': np.random.rand(20, 3), 'C_chain_X': np.random.rand(20, 3), 'O_chain_X': np.random.rand(20, 3)},\n",
        "        'seq_chain_Y': 'ADCDEFGHICKLM',\n",
        "        'coords_chain_Y': {'N_chain_Y': np.random.rand(13, 3), 'CA_chain_Y': np.random.rand(13, 3), 'C_chain_Y': np.random.rand(13, 3), 'O_chain_Y': np.random.rand(13, 3)},\n",
        "        'seq_chain_Z': 'CKLMNAPQRST',\n",
        "        'coords_chain_Z': {'N_chain_Z': np.random.rand(11, 3), 'CA_chain_Z': np.random.rand(11, 3), 'C_chain_Z': np.random.rand(11, 3), 'O_chain_Z': np.random.rand(11, 3)},\n",
        "        'masked_list': ['X', 'Y'],\n",
        "        'visible_list': ['Z'],\n",
        "        'num_of_chains': 3,\n",
        "        'seq': 'ACDEFGHIKLMNPQRSTVWY'+'ADCDEFGHICKLM'+'CKLMNAPQRST'\n",
        "\n",
        "    }\n",
        "]"
      ],
      "metadata": {
        "id": "Q-n_PLHheAYG"
      },
      "execution_count": 18,
      "outputs": []
    },
    {
      "cell_type": "code",
      "source": [
        "device ='cuda' if torch.cuda.is_available() else 'cpu'"
      ],
      "metadata": {
        "id": "26KaI7hKj2ci"
      },
      "execution_count": 11,
      "outputs": []
    },
    {
      "cell_type": "code",
      "source": [
        "X, S, mask, lengths, chain_M, residue_idx, mask_self, chain_encoding_all=featurize(batch, device\n",
        ")"
      ],
      "metadata": {
        "id": "4Ij1agEmeRoS"
      },
      "execution_count": 19,
      "outputs": []
    },
    {
      "cell_type": "code",
      "source": [
        "print(X.shape)\n",
        "print(mask.shape)"
      ],
      "metadata": {
        "colab": {
          "base_uri": "https://localhost:8080/"
        },
        "id": "W7tUOwConwxC",
        "outputId": "7f0f97a1-20dc-4c0f-8424-bad28d0e0109"
      },
      "execution_count": 22,
      "outputs": [
        {
          "output_type": "stream",
          "name": "stdout",
          "text": [
            "torch.Size([2, 44, 4, 3])\n",
            "torch.Size([2, 44])\n"
          ]
        }
      ]
    },
    {
      "cell_type": "code",
      "source": [
        "mask"
      ],
      "metadata": {
        "colab": {
          "base_uri": "https://localhost:8080/"
        },
        "id": "6wRST1RY-I6E",
        "outputId": "ebee7d00-8ed7-4e1c-82b6-d84e0f0e3b81"
      },
      "execution_count": 23,
      "outputs": [
        {
          "output_type": "execute_result",
          "data": {
            "text/plain": [
              "tensor([[1., 1., 1., 1., 1., 1., 1., 1., 1., 1., 1., 1., 1., 1., 1., 1., 1., 1.,\n",
              "         1., 1., 1., 1., 1., 1., 1., 1., 1., 1., 1., 1., 1., 1., 1., 1., 1., 1.,\n",
              "         1., 1., 1., 1., 1., 0., 0., 0.],\n",
              "        [1., 1., 1., 1., 1., 1., 1., 1., 1., 1., 1., 1., 1., 1., 1., 1., 1., 1.,\n",
              "         1., 1., 1., 1., 1., 1., 1., 1., 1., 1., 1., 1., 1., 1., 1., 1., 1., 1.,\n",
              "         1., 1., 1., 1., 1., 1., 1., 1.]])"
            ]
          },
          "metadata": {},
          "execution_count": 23
        }
      ]
    },
    {
      "cell_type": "code",
      "source": [
        "mask_2D = torch.unsqueeze(mask,1) * torch.unsqueeze(mask,2)  # i, j\n",
        "print(mask_2D.shape)\n",
        "print(torch.unsqueeze(mask,1).shape)\n",
        "print(torch.unsqueeze(mask,2).shape)"
      ],
      "metadata": {
        "colab": {
          "base_uri": "https://localhost:8080/"
        },
        "id": "5m88rYED-fUE",
        "outputId": "76fb0d94-d590-43db-bb1f-aaca819c9756"
      },
      "execution_count": 26,
      "outputs": [
        {
          "output_type": "stream",
          "name": "stdout",
          "text": [
            "torch.Size([2, 44, 44])\n",
            "torch.Size([2, 1, 44])\n",
            "torch.Size([2, 44, 1])\n"
          ]
        }
      ]
    },
    {
      "cell_type": "code",
      "source": [
        "dX = torch.unsqueeze(X,1) - torch.unsqueeze(X,2)  # distance between residues\n",
        "print(dX.shape)\n",
        "print(torch.unsqueeze(X,1).shape)\n",
        "print(torch.unsqueeze(X,2).shape)"
      ],
      "metadata": {
        "colab": {
          "base_uri": "https://localhost:8080/"
        },
        "id": "kIMaQrYz-X46",
        "outputId": "91d6b8bc-d4cb-4221-ac06-eba1cc9ab3cb"
      },
      "execution_count": 28,
      "outputs": [
        {
          "output_type": "stream",
          "name": "stdout",
          "text": [
            "torch.Size([2, 44, 44, 4, 3])\n",
            "torch.Size([2, 1, 44, 4, 3])\n",
            "torch.Size([2, 44, 1, 4, 3])\n"
          ]
        }
      ]
    },
    {
      "cell_type": "code",
      "source": [
        "eps=1E-6\n",
        "CA_dX=dX[:,:,:,1,:]  # B,N,N,1, 3\n",
        "D=torch.sqrt(torch.sum(CA_dX**2, 3) + eps) # sum over X, Y, Z\n",
        "D.shape"
      ],
      "metadata": {
        "colab": {
          "base_uri": "https://localhost:8080/"
        },
        "id": "g2jpLoAZDDzW",
        "outputId": "9d5f007d-fdec-4845-c51e-76fa33dedecf"
      },
      "execution_count": 51,
      "outputs": [
        {
          "output_type": "execute_result",
          "data": {
            "text/plain": [
              "torch.Size([2, 44, 44])"
            ]
          },
          "metadata": {},
          "execution_count": 51
        }
      ]
    },
    {
      "cell_type": "code",
      "source": [
        "#mask out inter-residues that are padding or unvalid\n",
        "D= mask_2D*D"
      ],
      "metadata": {
        "id": "3I6ykNfmEgpd"
      },
      "execution_count": 52,
      "outputs": []
    },
    {
      "cell_type": "code",
      "source": [
        "D_max, _ = torch.max(D, -1, keepdim=True) # extract the largest distance\n",
        "# adjust the distance info so that the masked inter residue distance is the largetst distance\n",
        "D_adjust = D + (1. - mask_2D) * D_max"
      ],
      "metadata": {
        "id": "Q1On1-24F7lZ"
      },
      "execution_count": 53,
      "outputs": []
    },
    {
      "cell_type": "code",
      "source": [
        "top_k=5  #5 nearest neighbors\n",
        "D_neighbors, E_idx = torch.topk(D_adjust, np.minimum(top_k, X.shape[1]), dim=-1, largest=False)"
      ],
      "metadata": {
        "id": "UtE4AnCXHI-m"
      },
      "execution_count": 54,
      "outputs": []
    },
    {
      "cell_type": "code",
      "source": [
        "D_neighbors.shape"
      ],
      "metadata": {
        "colab": {
          "base_uri": "https://localhost:8080/"
        },
        "id": "EXmFF6eCIWzk",
        "outputId": "7d2d5e30-5327-458b-be37-b39f3b7f50b1"
      },
      "execution_count": 55,
      "outputs": [
        {
          "output_type": "execute_result",
          "data": {
            "text/plain": [
              "torch.Size([2, 44, 5])"
            ]
          },
          "metadata": {},
          "execution_count": 55
        }
      ]
    },
    {
      "cell_type": "code",
      "source": [
        "print(E_idx.shape)\n",
        "print(E_idx[0,0,:]) # nearest neighbor index for batch 0, residue 0"
      ],
      "metadata": {
        "colab": {
          "base_uri": "https://localhost:8080/"
        },
        "id": "MmRqOFKcIYv9",
        "outputId": "5d316639-afba-40d8-a2f0-4b930af570a6"
      },
      "execution_count": 56,
      "outputs": [
        {
          "output_type": "stream",
          "name": "stdout",
          "text": [
            "torch.Size([2, 44, 5])\n",
            "tensor([ 0, 18, 20,  1,  8])\n"
          ]
        }
      ]
    },
    {
      "cell_type": "markdown",
      "source": [
        "#7.2 Second Function\n",
        "RBF function\n",
        "\n",
        "---\n",
        "Input: D-Distance info  [B, N, K]\n",
        "---\n",
        "Function explain: calculate RBF kernel function\\\n",
        "generate #num_rbf values linearly between 2 and 22 Å\\\n",
        "calculate scaling factor D_sigma \\\n",
        "then calculate RBF value for all different RBF kernel functions (Gaussian) \\\n",
        "\n",
        "Overall, the distance info has been encoded into a #num_rbf dimension vector\n",
        "\n",
        "---\n",
        "Return: RBF value [B, N, K, num_rbf]"
      ],
      "metadata": {
        "id": "U_-oEaezIlbC"
      }
    },
    {
      "cell_type": "code",
      "source": [
        "def _rbf(self, D):\n",
        "    device = D.device\n",
        "    D_min, D_max, D_count = 2., 22., self.num_rbf\n",
        "    D_mu = torch.linspace(D_min, D_max, D_count, device=device)\n",
        "    D_mu = D_mu.view([1,1,1,-1])\n",
        "    D_sigma = (D_max - D_min) / D_count\n",
        "    D_expand = torch.unsqueeze(D, -1)\n",
        "    RBF = torch.exp(-((D_expand - D_mu) / D_sigma)**2)\n",
        "    return RBF"
      ],
      "metadata": {
        "id": "OmKjKmmpK29m"
      },
      "execution_count": 44,
      "outputs": []
    },
    {
      "cell_type": "code",
      "source": [
        "num_rbf = 100\n",
        "D_min, D_max, D_count = 2., 22., num_rbf\n",
        "D_mu = torch.linspace(D_min, D_max, D_count, device=device)\n",
        "D_mu = D_mu.view([1,1,1,-1])  # the mean value in Guassian RBF kenerl\n",
        "\n",
        "print(D_mu)\n",
        "print(D_mu.shape)"
      ],
      "metadata": {
        "colab": {
          "base_uri": "https://localhost:8080/"
        },
        "id": "1rz3rWgXK5vn",
        "outputId": "9e4b3b0c-f0a8-46e9-9138-a9ef51fdffbe"
      },
      "execution_count": 61,
      "outputs": [
        {
          "output_type": "stream",
          "name": "stdout",
          "text": [
            "tensor([[[[ 2.0000,  2.2020,  2.4040,  2.6061,  2.8081,  3.0101,  3.2121,\n",
            "            3.4141,  3.6162,  3.8182,  4.0202,  4.2222,  4.4242,  4.6263,\n",
            "            4.8283,  5.0303,  5.2323,  5.4343,  5.6364,  5.8384,  6.0404,\n",
            "            6.2424,  6.4444,  6.6465,  6.8485,  7.0505,  7.2525,  7.4545,\n",
            "            7.6566,  7.8586,  8.0606,  8.2626,  8.4646,  8.6667,  8.8687,\n",
            "            9.0707,  9.2727,  9.4747,  9.6768,  9.8788, 10.0808, 10.2828,\n",
            "           10.4848, 10.6869, 10.8889, 11.0909, 11.2929, 11.4949, 11.6970,\n",
            "           11.8990, 12.1010, 12.3030, 12.5051, 12.7071, 12.9091, 13.1111,\n",
            "           13.3131, 13.5152, 13.7172, 13.9192, 14.1212, 14.3232, 14.5253,\n",
            "           14.7273, 14.9293, 15.1313, 15.3333, 15.5354, 15.7374, 15.9394,\n",
            "           16.1414, 16.3434, 16.5455, 16.7475, 16.9495, 17.1515, 17.3535,\n",
            "           17.5556, 17.7576, 17.9596, 18.1616, 18.3636, 18.5657, 18.7677,\n",
            "           18.9697, 19.1717, 19.3737, 19.5758, 19.7778, 19.9798, 20.1818,\n",
            "           20.3838, 20.5859, 20.7879, 20.9899, 21.1919, 21.3939, 21.5960,\n",
            "           21.7980, 22.0000]]]])\n",
            "torch.Size([1, 1, 1, 100])\n"
          ]
        }
      ]
    },
    {
      "cell_type": "code",
      "source": [
        "print(D_neighbors.shape)"
      ],
      "metadata": {
        "colab": {
          "base_uri": "https://localhost:8080/"
        },
        "id": "AxmgfBn1gByh",
        "outputId": "96e148ee-8730-487b-b396-e0655195d29c"
      },
      "execution_count": 59,
      "outputs": [
        {
          "output_type": "stream",
          "name": "stdout",
          "text": [
            "torch.Size([2, 44, 5])\n"
          ]
        }
      ]
    },
    {
      "cell_type": "code",
      "source": [
        "D_sigma = (D_max - D_min) / D_count   # scaling\n",
        "D_expand = torch.unsqueeze(D_neighbors, -1)  # B, N, k, 1\n",
        "print(D_expand.shape)\n"
      ],
      "metadata": {
        "colab": {
          "base_uri": "https://localhost:8080/"
        },
        "id": "z6MCqmenQJbp",
        "outputId": "ca2972db-6d97-4f0c-96ff-f1cf95a8cca5"
      },
      "execution_count": 62,
      "outputs": [
        {
          "output_type": "stream",
          "name": "stdout",
          "text": [
            "torch.Size([2, 44, 5, 1])\n"
          ]
        }
      ]
    },
    {
      "cell_type": "code",
      "source": [
        "RBF = torch.exp(-((D_expand - D_mu) / D_sigma)**2) #calculated RBF kernel value for various means"
      ],
      "metadata": {
        "id": "CY-BTXGUf5IQ"
      },
      "execution_count": 63,
      "outputs": []
    },
    {
      "cell_type": "code",
      "source": [
        "print(RBF.shape)\n",
        "print(RBF[0,0,1,:10])"
      ],
      "metadata": {
        "colab": {
          "base_uri": "https://localhost:8080/"
        },
        "id": "1lZiNrylibmx",
        "outputId": "575b4f3b-9d65-4bfb-af5b-d135fdda18af"
      },
      "execution_count": 67,
      "outputs": [
        {
          "output_type": "stream",
          "name": "stdout",
          "text": [
            "torch.Size([2, 44, 5, 100])\n",
            "tensor([2.0127e-40, 0.0000e+00, 0.0000e+00, 0.0000e+00, 0.0000e+00, 0.0000e+00,\n",
            "        0.0000e+00, 0.0000e+00, 0.0000e+00, 0.0000e+00])\n"
          ]
        }
      ]
    },
    {
      "cell_type": "markdown",
      "source": [
        "#7.3 Third Function\n",
        "get_rbf function\n",
        "---\n",
        "\n",
        "---\n",
        "Input: D-Distance info  [B, N, K]\\\n",
        "\n",
        "Function explain:\n",
        "calculate distance between A and B based on E_idx\\\n",
        "convert distance to  #num_rbf values vector by calling rbf function\\\n",
        "\n",
        "Overall: encoding distance btween A and B atoms\n",
        "\n",
        "---\n",
        "Return: RBF value [B, N, K, num_rbf]"
      ],
      "metadata": {
        "id": "HlqkL0X8ifZU"
      }
    },
    {
      "cell_type": "code",
      "source": [
        "def _get_rbf(self, A, B, E_idx):\n",
        "    D_A_B = torch.sqrt(torch.sum((A[:,:,None,:] - B[:,None,:,:])**2,-1) + 1e-6) #[B, L, L]\n",
        "    D_A_B_neighbors = gather_edges(D_A_B[:,:,:,None], E_idx)[:,:,:,0] #[B,L,K]\n",
        "    RBF_A_B = self._rbf(D_A_B_neighbors)\n",
        "    return RBF_A_B\n"
      ],
      "metadata": {
        "id": "Hms_jcQKnfUy"
      },
      "execution_count": 69,
      "outputs": []
    },
    {
      "cell_type": "code",
      "source": [
        "Ca = X[:,:,1,:]\n",
        "N = X[:,:,0,:]\n",
        "C = X[:,:,2,:]\n",
        "O = X[:,:,3,:]\n",
        "print(Ca.shape)"
      ],
      "metadata": {
        "colab": {
          "base_uri": "https://localhost:8080/"
        },
        "id": "kqcVhSfYvl1x",
        "outputId": "ca936bca-1879-4b67-8ae0-4f18c2c7a65a"
      },
      "execution_count": 74,
      "outputs": [
        {
          "output_type": "stream",
          "name": "stdout",
          "text": [
            "torch.Size([2, 44, 3])\n"
          ]
        }
      ]
    },
    {
      "cell_type": "code",
      "source": [
        "\n",
        "D_A_B = torch.sqrt(torch.sum((N[:,:,None,:] - C[:,None,:,:])**2,-1) + 1e-6) #[B, L, L]\n",
        "# first broadcast then calculate inter atom distance\n",
        "print(D_A_B.shape)"
      ],
      "metadata": {
        "colab": {
          "base_uri": "https://localhost:8080/"
        },
        "id": "pGwkAo-DwS99",
        "outputId": "7741daa3-5a7a-47f9-e6de-c1adfb25f909"
      },
      "execution_count": 76,
      "outputs": [
        {
          "output_type": "stream",
          "name": "stdout",
          "text": [
            "torch.Size([2, 44, 44])\n"
          ]
        }
      ]
    },
    {
      "cell_type": "code",
      "source": [
        "# then gather distance from K-nearest neighbors\n",
        "from model_utils import gather_edges\n",
        "D_A_B_neighbors = gather_edges(D_A_B[:,:,:,None], E_idx)[:,:,:,0] #[B,L,K]\n",
        "\n",
        "def _rbf(D):\n",
        "    device = D.device\n",
        "    D_min, D_max, D_count = 2., 22., 100\n",
        "    D_mu = torch.linspace(D_min, D_max, D_count, device=device)\n",
        "    D_mu = D_mu.view([1,1,1,-1])\n",
        "    D_sigma = (D_max - D_min) / D_count\n",
        "    D_expand = torch.unsqueeze(D, -1)\n",
        "    RBF = torch.exp(-((D_expand - D_mu) / D_sigma)**2)\n",
        "    return RBF\n",
        "\n",
        "#then encode the distance through RBF values\n",
        "RBF_A_B =_rbf(D_A_B_neighbors)"
      ],
      "metadata": {
        "id": "JunE2WgGf-HW"
      },
      "execution_count": 78,
      "outputs": []
    },
    {
      "cell_type": "code",
      "source": [
        "print(RBF_A_B.shape) # B, N, k, num_of_rbf\n",
        "print(RBF_A_B[0,0,1,:10])"
      ],
      "metadata": {
        "colab": {
          "base_uri": "https://localhost:8080/"
        },
        "id": "I1F3XVCwg6nh",
        "outputId": "975538a1-8f8e-43f2-df3b-5a379611439c"
      },
      "execution_count": 81,
      "outputs": [
        {
          "output_type": "stream",
          "name": "stdout",
          "text": [
            "torch.Size([2, 44, 5, 100])\n",
            "tensor([2.4677e-17, 3.3394e-23, 5.8723e-30, 1.3419e-37, 0.0000e+00, 0.0000e+00,\n",
            "        0.0000e+00, 0.0000e+00, 0.0000e+00, 0.0000e+00])\n"
          ]
        }
      ]
    },
    {
      "cell_type": "markdown",
      "source": [
        "#Rest of ProteinFeature\n",
        "Combine Postional embedding and geometry embedding\n"
      ],
      "metadata": {
        "id": "xJdP1t4diASe"
      }
    },
    {
      "cell_type": "code",
      "source": [
        "offset = residue_idx[:,:,None]-residue_idx[:,None,:]  # [B,N,N] calculate interresidue idx distance\n",
        "offset = gather_edges(offset[:,:,:,None], E_idx)[:,:,:,0] #[B, N, K] # extract only the K nearest\n",
        "print(offset.shape)\n",
        "print(offset[0,0,:])"
      ],
      "metadata": {
        "colab": {
          "base_uri": "https://localhost:8080/"
        },
        "id": "kBqHiaEQjFKo",
        "outputId": "c2c1ff72-42ba-4fc3-cbc9-fb65ff91a9e0"
      },
      "execution_count": 83,
      "outputs": [
        {
          "output_type": "stream",
          "name": "stdout",
          "text": [
            "torch.Size([2, 44, 5])\n",
            "tensor([   0, -118, -120,   -1,   -8])\n"
          ]
        }
      ]
    },
    {
      "cell_type": "code",
      "source": [
        "chain_labels=chain_encoding_all\n",
        "print(chain_labels.shape)\n",
        "d_chains = ((chain_labels[:, :, None] - chain_labels[:,None,:])==0).long() #find self vs non-self interaction\n",
        "E_chains = gather_edges(d_chains[:,:,:,None], E_idx)[:,:,:,0] # [B, N, K]\n",
        "#E_positional = self.embeddings(offset.long(), E_chains)\n",
        "print(E_chains.shape)\n",
        "print(E_chains[0,0,:]) # 1 is self interaction(within the same chain), 0 is inter-chain\n",
        "#the results agree with the K-nearest neighbor indices [   0, -118, -120,   -1,   -8]"
      ],
      "metadata": {
        "colab": {
          "base_uri": "https://localhost:8080/"
        },
        "id": "Go6R9KSsjmkJ",
        "outputId": "ec050406-ba8d-4028-854b-c24e363b84bd"
      },
      "execution_count": 85,
      "outputs": [
        {
          "output_type": "stream",
          "name": "stdout",
          "text": [
            "torch.Size([2, 44])\n",
            "torch.Size([2, 44, 5])\n",
            "tensor([1, 0, 0, 1, 1])\n"
          ]
        }
      ]
    },
    {
      "cell_type": "code",
      "source": [
        "import torch.nn as nn\n",
        "class PositionalEncodings(nn.Module):\n",
        "    def __init__(self, num_embeddings, max_relative_feature=32):\n",
        "        super(PositionalEncodings, self).__init__()\n",
        "        self.num_embeddings = num_embeddings\n",
        "        self.max_relative_feature = max_relative_feature\n",
        "        self.linear = nn.Linear(2*max_relative_feature+1+1, num_embeddings)\n",
        "\n",
        "    def forward(self, offset, mask):\n",
        "        d = torch.clip(offset + self.max_relative_feature, 0, 2*self.max_relative_feature)*mask + (1-mask)*(2*self.max_relative_feature+1)\n",
        "        d_onehot = torch.nn.functional.one_hot(d, 2*self.max_relative_feature+1+1)\n",
        "        E = self.linear(d_onehot.float())\n",
        "        return E\n",
        "num_positional_embeddings=10\n",
        "embeddings = PositionalEncodings(num_positional_embeddings)\n",
        "E_positional = embeddings(offset.long(), E_chains) # E_chains act as a mask, inter chain is set to be 2*self.max_relative_feature+1+1\n",
        "#E = torch.cat((E_positional, RBF_all), -1)\n",
        "print(E_positional.shape) #[B,N,K,10]  trainable positional embedding\n",
        "print(E_positional[0,0,1,:])"
      ],
      "metadata": {
        "colab": {
          "base_uri": "https://localhost:8080/"
        },
        "id": "Nb9jHIibk-b1",
        "outputId": "338bf534-013c-479c-d72d-d8e64f86326e"
      },
      "execution_count": 91,
      "outputs": [
        {
          "output_type": "stream",
          "name": "stdout",
          "text": [
            "torch.Size([2, 44, 5, 10])\n",
            "tensor([-0.0061, -0.1261, -0.0489,  0.0102,  0.0175,  0.0838,  0.0170,  0.1484,\n",
            "         0.1981, -0.1855], grad_fn=<SliceBackward0>)\n"
          ]
        }
      ]
    },
    {
      "cell_type": "code",
      "source": [
        "# Finally Combind postional and geometry embedding\n",
        "'''\n",
        "RBF_all = []\n",
        "RBF_all.append(self._rbf(D_neighbors)) #Ca-Ca\n",
        "RBF_all.append(self._get_rbf(N, N, E_idx)) #N-N\n",
        "RBF_all.append(self._get_rbf(C, C, E_idx)) #C-C\n",
        "RBF_all.append(self._get_rbf(O, O, E_idx)) #O-O\n",
        "RBF_all.append(self._get_rbf(Cb, Cb, E_idx)) #Cb-Cb\n",
        "RBF_all.append(self._get_rbf(Ca, N, E_idx)) #Ca-N\n",
        "RBF_all.append(self._get_rbf(Ca, C, E_idx)) #Ca-C\n",
        "RBF_all.append(self._get_rbf(Ca, O, E_idx)) #Ca-O\n",
        "RBF_all.append(self._get_rbf(Ca, Cb, E_idx)) #Ca-Cb\n",
        "RBF_all.append(self._get_rbf(N, C, E_idx)) #N-C\n",
        "RBF_all.append(self._get_rbf(N, O, E_idx)) #N-O\n",
        "RBF_all.append(self._get_rbf(N, Cb, E_idx)) #N-Cb\n",
        "RBF_all.append(self._get_rbf(Cb, C, E_idx)) #Cb-C\n",
        "RBF_all.append(self._get_rbf(Cb, O, E_idx)) #Cb-O\n",
        "RBF_all.append(self._get_rbf(O, C, E_idx)) #O-C\n",
        "RBF_all.append(self._get_rbf(N, Ca, E_idx)) #N-Ca\n",
        "RBF_all.append(self._get_rbf(C, Ca, E_idx)) #C-Ca\n",
        "RBF_all.append(self._get_rbf(O, Ca, E_idx)) #O-Ca\n",
        "RBF_all.append(self._get_rbf(Cb, Ca, E_idx)) #Cb-Ca\n",
        "RBF_all.append(self._get_rbf(C, N, E_idx)) #C-N\n",
        "RBF_all.append(self._get_rbf(O, N, E_idx)) #O-N\n",
        "RBF_all.append(self._get_rbf(Cb, N, E_idx)) #Cb-N\n",
        "RBF_all.append(self._get_rbf(C, Cb, E_idx)) #C-Cb\n",
        "RBF_all.append(self._get_rbf(O, Cb, E_idx)) #O-Cb\n",
        "RBF_all.append(self._get_rbf(C, O, E_idx)) #C-O\n",
        "RBF_all = torch.cat(tuple(RBF_all), dim=-1)\n",
        "E = torch.cat((E_positional, RBF_all), -1) # dimension: 25 (num of inter atom pairs) * num_rbf + num_positional_embeddings\n",
        "edge_in = 25*num_rbf + num_positional_embeddings\n",
        "self.edge_embedding = nn.Linear(edge_in, edge_features, bias=False) # MLP to edge_feature\n",
        "self.norm_edges = nn.LayerNorm(edge_features) # normalization\n",
        "\n",
        "Return E    # Edge feature embedding\n",
        "\n",
        "'''\n",
        "\n",
        "\n"
      ],
      "metadata": {
        "id": "1C4L4c0umHLo"
      },
      "execution_count": null,
      "outputs": []
    }
  ]
}