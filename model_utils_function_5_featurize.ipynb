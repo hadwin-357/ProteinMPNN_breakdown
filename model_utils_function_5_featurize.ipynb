{
  "nbformat": 4,
  "nbformat_minor": 0,
  "metadata": {
    "colab": {
      "provenance": [],
      "authorship_tag": "ABX9TyMEGD4Y0G0MPSqD6YjV63t1",
      "include_colab_link": true
    },
    "kernelspec": {
      "name": "python3",
      "display_name": "Python 3"
    },
    "language_info": {
      "name": "python"
    }
  },
  "cells": [
    {
      "cell_type": "markdown",
      "metadata": {
        "id": "view-in-github",
        "colab_type": "text"
      },
      "source": [
        "<a href=\"https://colab.research.google.com/github/hadwin-357/ProteinMPNN_breakdown/blob/main/model_utils_function_5_featurize.ipynb\" target=\"_parent\"><img src=\"https://colab.research.google.com/assets/colab-badge.svg\" alt=\"Open In Colab\"/></a>"
      ]
    },
    {
      "cell_type": "code",
      "execution_count": null,
      "metadata": {
        "id": "WqHyVTbGCm_d"
      },
      "outputs": [],
      "source": [
        "#test model utils function\n",
        "# featurize\n",
        "'''\n",
        "inputs:  batch: containing # protein (seq, chain_seq, cooridinates, info about whether chains are masked)\n",
        "\n",
        "Return:\n",
        "X: [Batch, L_max, 4, 3] # L_max (longest seqence of all proteins in the batch, 4: N CA C O, 3: x, y, z coordinates)\n",
        "S: ground truth, sequence displayed as int for example A as 0, C as 1\n",
        "mask: mask for padding, padding as 0\n",
        "lengths: np array of seq_length for protein in the batch\n",
        "chain_M: [Batch, L_max] 1 for masked 0 for not\n",
        "residue_idx: [Batch, l] l: length of seqence, encode in hopping way for differnt chain\n",
        "mask_self: [Batch, L_max, L_max]: residue pairwise info: within chain as 0, inter chain as 1\n",
        "chain_encoding_all: [Batch, L_max] chain code as 1 1 1 1 1 ...2 2 2... 3 3 3...\n",
        "'''"
      ]
    },
    {
      "cell_type": "code",
      "source": [
        "def featurize(batch, device):\n",
        "    alphabet = 'ACDEFGHIKLMNPQRSTVWYX'\n",
        "    B = len(batch)\n",
        "    lengths = np.array([len(b['seq']) for b in batch], dtype=np.int32) #sum of chain seq lengths\n",
        "    L_max = max([len(b['seq']) for b in batch]) # longest seq\n",
        "    X = np.zeros([B, L_max, 4, 3]) # initize with zero\n",
        "    residue_idx = -100*np.ones([B, L_max], dtype=np.int32) #residue idx with jumps across chains\n",
        "    chain_M = np.zeros([B, L_max], dtype=np.int32) #1.0 for the bits that need to be predicted, 0.0 for the bits that are given\n",
        "    mask_self = np.ones([B, L_max, L_max], dtype=np.int32) #for interface loss calculation - 0.0 for self interaction, 1.0 for other\n",
        "    chain_encoding_all = np.zeros([B, L_max], dtype=np.int32) #integer encoding for chains 0, 0, 0,...0, 1, 1,..., 1, 2, 2, 2...\n",
        "    S = np.zeros([B, L_max], dtype=np.int32) #sequence AAs integers\n",
        "    init_alphabet = ['A', 'B', 'C', 'D', 'E', 'F', 'G','H', 'I', 'J','K', 'L', 'M', 'N', 'O', 'P', 'Q', 'R', 'S', 'T','U', 'V','W','X', 'Y', 'Z', 'a', 'b', 'c', 'd', 'e', 'f', 'g','h', 'i', 'j','k', 'l', 'm', 'n', 'o', 'p', 'q', 'r', 's', 't','u', 'v','w','x', 'y', 'z']\n",
        "    extra_alphabet = [str(item) for item in list(np.arange(300))]\n",
        "    chain_letters = init_alphabet + extra_alphabet\n",
        "    for i, b in enumerate(batch):\n",
        "        masked_chains = b['masked_list']\n",
        "        visible_chains = b['visible_list']\n",
        "        all_chains = masked_chains + visible_chains\n",
        "        visible_temp_dict = {}\n",
        "        masked_temp_dict = {}\n",
        "        for step, letter in enumerate(all_chains):\n",
        "            chain_seq = b[f'seq_chain_{letter}']\n",
        "            if letter in visible_chains:\n",
        "                visible_temp_dict[letter] = chain_seq\n",
        "            elif letter in masked_chains:\n",
        "                masked_temp_dict[letter] = chain_seq\n",
        "        for km, vm in masked_temp_dict.items():\n",
        "            for kv, vv in visible_temp_dict.items():\n",
        "                if vm == vv:\n",
        "                    if kv not in masked_chains:\n",
        "                        masked_chains.append(kv)\n",
        "                    if kv in visible_chains:\n",
        "                        visible_chains.remove(kv)\n",
        "        all_chains = masked_chains + visible_chains\n",
        "        random.shuffle(all_chains) #randomly shuffle chain order\n",
        "        num_chains = b['num_of_chains']\n",
        "        mask_dict = {}\n",
        "        x_chain_list = []\n",
        "        chain_mask_list = []\n",
        "        chain_seq_list = []\n",
        "        chain_encoding_list = []\n",
        "        c = 1\n",
        "        l0 = 0\n",
        "        l1 = 0\n",
        "        for step, letter in enumerate(all_chains):\n",
        "            if letter in visible_chains:\n",
        "                chain_seq = b[f'seq_chain_{letter}']\n",
        "                chain_length = len(chain_seq)\n",
        "                chain_coords = b[f'coords_chain_{letter}'] #this is a dictionary\n",
        "                chain_mask = np.zeros(chain_length) #0.0 for visible chains\n",
        "                x_chain = np.stack([chain_coords[c] for c in [f'N_chain_{letter}', f'CA_chain_{letter}', f'C_chain_{letter}', f'O_chain_{letter}']], 1) #[chain_length,4,3]\n",
        "                x_chain_list.append(x_chain)\n",
        "                chain_mask_list.append(chain_mask)\n",
        "                chain_seq_list.append(chain_seq)\n",
        "                chain_encoding_list.append(c*np.ones(np.array(chain_mask).shape[0]))\n",
        "                l1 += chain_length\n",
        "                mask_self[i, l0:l1, l0:l1] = np.zeros([chain_length, chain_length])\n",
        "                residue_idx[i, l0:l1] = 100*(c-1)+np.arange(l0, l1)\n",
        "                l0 += chain_length\n",
        "                c+=1\n",
        "            elif letter in masked_chains:\n",
        "                chain_seq = b[f'seq_chain_{letter}']\n",
        "                chain_length = len(chain_seq)\n",
        "                chain_coords = b[f'coords_chain_{letter}'] #this is a dictionary\n",
        "                chain_mask = np.ones(chain_length) #0.0 for visible chains\n",
        "                x_chain = np.stack([chain_coords[c] for c in [f'N_chain_{letter}', f'CA_chain_{letter}', f'C_chain_{letter}', f'O_chain_{letter}']], 1) #[chain_lenght,4,3]\n",
        "                x_chain_list.append(x_chain)\n",
        "                chain_mask_list.append(chain_mask)\n",
        "                chain_seq_list.append(chain_seq)\n",
        "                chain_encoding_list.append(c*np.ones(np.array(chain_mask).shape[0]))\n",
        "                l1 += chain_length\n",
        "                mask_self[i, l0:l1, l0:l1] = np.zeros([chain_length, chain_length])\n",
        "                residue_idx[i, l0:l1] = 100*(c-1)+np.arange(l0, l1)\n",
        "                l0 += chain_length\n",
        "                c+=1\n",
        "        x = np.concatenate(x_chain_list,0) #[L, 4, 3]\n",
        "        all_sequence = \"\".join(chain_seq_list)\n",
        "        m = np.concatenate(chain_mask_list,0) #[L,], 1.0 for places that need to be predicted\n",
        "        chain_encoding = np.concatenate(chain_encoding_list,0)\n",
        "\n",
        "        l = len(all_sequence)\n",
        "        x_pad = np.pad(x, [[0,L_max-l], [0,0], [0,0]], 'constant', constant_values=(np.nan, ))\n",
        "        X[i,:,:,:] = x_pad\n",
        "\n",
        "        m_pad = np.pad(m, [[0,L_max-l]], 'constant', constant_values=(0.0, ))\n",
        "        chain_M[i,:] = m_pad\n",
        "\n",
        "        chain_encoding_pad = np.pad(chain_encoding, [[0,L_max-l]], 'constant', constant_values=(0.0, ))\n",
        "        chain_encoding_all[i,:] = chain_encoding_pad\n",
        "\n",
        "        # Convert to labels\n",
        "        indices = np.asarray([alphabet.index(a) for a in all_sequence], dtype=np.int32)\n",
        "        S[i, :l] = indices\n",
        "\n",
        "    isnan = np.isnan(X)\n",
        "    mask = np.isfinite(np.sum(X,(2,3))).astype(np.float32)\n",
        "    X[isnan] = 0.\n",
        "\n",
        "    # Conversion\n",
        "    residue_idx = torch.from_numpy(residue_idx).to(dtype=torch.long,device=device)\n",
        "    S = torch.from_numpy(S).to(dtype=torch.long,device=device)\n",
        "    X = torch.from_numpy(X).to(dtype=torch.float32, device=device)\n",
        "    mask = torch.from_numpy(mask).to(dtype=torch.float32, device=device)\n",
        "    mask_self = torch.from_numpy(mask_self).to(dtype=torch.float32, device=device)\n",
        "    chain_M = torch.from_numpy(chain_M).to(dtype=torch.float32, device=device)\n",
        "    chain_encoding_all = torch.from_numpy(chain_encoding_all).to(dtype=torch.long, device=device)\n",
        "    return X, S, mask, lengths, chain_M, residue_idx, mask_self, chain_encoding_all"
      ],
      "metadata": {
        "id": "0Pf6-g8MVNEr"
      },
      "execution_count": null,
      "outputs": []
    },
    {
      "cell_type": "code",
      "source": [
        "import numpy as np\n",
        "\n",
        "# Sample input data\n",
        "batch = [\n",
        "    {\n",
        "        'seq_chain_A': 'MKLVFLVLLVFVQGF',\n",
        "        'coords_chain_A': {'N_chain_A': np.random.rand(16, 3), 'CA_chain_A': np.random.rand(16, 3), 'C_chain_A': np.random.rand(16, 3), 'O_chain_A': np.random.rand(16, 3)},\n",
        "        'seq_chain_B': 'MSVKVEEVG',\n",
        "        'coords_chain_B': {'N_chain_B': np.random.rand(9, 3), 'CA_chain_B': np.random.rand(9, 3), 'C_chain_B': np.random.rand(9, 3), 'O_chain_B': np.random.rand(9, 3)},\n",
        "        'seq_chain_C': 'ATCGATCGATCGATCG',\n",
        "        'coords_chain_C': {'N_chain_C': np.random.rand(16, 3), 'CA_chain_C': np.random.rand(16, 3), 'C_chain_C': np.random.rand(16, 3), 'O_chain_C': np.random.rand(16, 3)},\n",
        "        'masked_list': ['A', 'B'],\n",
        "        'visible_list': ['C'],\n",
        "        'num_of_chains': 3,\n",
        "        'seq': 'MKLVFLVLLVFVQGF'+ 'MSVKVEEVG' + 'ATCGATCGATCGATCG'\n",
        "    },\n",
        "      {\n",
        "        'seq_chain_X': 'ACDEFGHIKLMNPQRSTVWY',\n",
        "        'coords_chain_X': {'N_chain_X': np.random.rand(20, 3), 'CA_chain_X': np.random.rand(20, 3), 'C_chain_X': np.random.rand(20, 3), 'O_chain_X': np.random.rand(20, 3)},\n",
        "        'seq_chain_Y': 'ABCDEFGHIJKLM',\n",
        "        'coords_chain_Y': {'N_chain_Y': np.random.rand(13, 3), 'CA_chain_Y': np.random.rand(13, 3), 'C_chain_Y': np.random.rand(13, 3), 'O_chain_Y': np.random.rand(13, 3)},\n",
        "        'seq_chain_Z': 'JKLMNOPQRST',\n",
        "        'coords_chain_Z': {'N_chain_Z': np.random.rand(11, 3), 'CA_chain_Z': np.random.rand(11, 3), 'C_chain_Z': np.random.rand(11, 3), 'O_chain_Z': np.random.rand(11, 3)},\n",
        "        'masked_list': ['X', 'Y'],\n",
        "        'visible_list': ['Z'],\n",
        "        'num_of_chains': 3,\n",
        "        'seq': 'ACDEFGHIKLMNPQRSTVWY'+'ABCDEFGHIJKLM'+'JKLMNOPQRST'\n",
        "\n",
        "    }\n",
        "]\n"
      ],
      "metadata": {
        "id": "BcmlLv6SPspg"
      },
      "execution_count": 71,
      "outputs": []
    },
    {
      "cell_type": "code",
      "source": [
        "batch[0]['seq']"
      ],
      "metadata": {
        "colab": {
          "base_uri": "https://localhost:8080/",
          "height": 35
        },
        "id": "jB6TFFP4TkCi",
        "outputId": "64e920d3-ca96-4fc7-9dfa-07055419f0e6"
      },
      "execution_count": 33,
      "outputs": [
        {
          "output_type": "execute_result",
          "data": {
            "text/plain": [
              "'MKLVFLVLLVFVQGFMSVKVEEVGATCGATCGATCGATCG'"
            ],
            "application/vnd.google.colaboratory.intrinsic+json": {
              "type": "string"
            }
          },
          "metadata": {},
          "execution_count": 33
        }
      ]
    },
    {
      "cell_type": "code",
      "source": [
        "alphabet = 'ACDEFGHIKLMNPQRSTVWYX'\n",
        "B = len(batch)\n",
        "lengths = np.array([len(b['seq']) for b in batch], dtype=np.int32) #sum of chain seq lengths\n",
        "L_max = max([len(b['seq']) for b in batch]) # longest seq\n",
        "X = np.zeros([B, L_max, 4, 3]) # initize with zero\n",
        "residue_idx = -100*np.ones([B, L_max], dtype=np.int32) #residue idx with jumps across chains\n",
        "chain_M = np.zeros([B, L_max], dtype=np.int32) #1.0 for the bits that need to be predicted, 0.0 for the bits that are given\n",
        "mask_self = np.ones([B, L_max, L_max], dtype=np.int32) #for interface loss calculation - 0.0 for self interaction, 1.0 for other\n",
        "chain_encoding_all = np.zeros([B, L_max], dtype=np.int32) #integer encoding for chains 0, 0, 0,...0, 1, 1,..., 1, 2, 2, 2...\n",
        "S = np.zeros([B, L_max], dtype=np.int32) #sequence AAs integers\n",
        "init_alphabet = ['A', 'B', 'C', 'D', 'E', 'F', 'G','H', 'I', 'J','K', 'L', 'M', 'N', 'O', 'P', 'Q', 'R', 'S', 'T','U', 'V','W','X', 'Y', 'Z', 'a', 'b', 'c', 'd', 'e', 'f', 'g','h', 'i', 'j','k', 'l', 'm', 'n', 'o', 'p', 'q', 'r', 's', 't','u', 'v','w','x', 'y', 'z']\n",
        "extra_alphabet = [str(item) for item in list(np.arange(300))]\n",
        "chain_letters = init_alphabet + extra_alphabet"
      ],
      "metadata": {
        "id": "5rQLyaeBJdM-"
      },
      "execution_count": 72,
      "outputs": []
    },
    {
      "cell_type": "code",
      "source": [
        "print(f'X shape: {X.shape}')\n",
        "print(f'lengths: {lengths}')\n",
        "print(f'residue_idx:{residue_idx.shape}')\n",
        "print(f'chain_M:{chain_M.shape}')\n",
        "print(f'mask_self:{mask_self.shape}')\n",
        "print(f'chain_encoding_all:{chain_encoding_all.shape}')\n",
        "print(chain_letters)"
      ],
      "metadata": {
        "colab": {
          "base_uri": "https://localhost:8080/"
        },
        "id": "RuCmaxPyL6KX",
        "outputId": "c164add5-0e74-42af-d45c-fb8888fc68d8"
      },
      "execution_count": 73,
      "outputs": [
        {
          "output_type": "stream",
          "name": "stdout",
          "text": [
            "X shape: (2, 44, 4, 3)\n",
            "lengths: [40 44]\n",
            "residue_idx:(2, 44)\n",
            "chain_M:(2, 44)\n",
            "mask_self:(2, 44, 44)\n",
            "chain_encoding_all:(2, 44)\n",
            "['A', 'B', 'C', 'D', 'E', 'F', 'G', 'H', 'I', 'J', 'K', 'L', 'M', 'N', 'O', 'P', 'Q', 'R', 'S', 'T', 'U', 'V', 'W', 'X', 'Y', 'Z', 'a', 'b', 'c', 'd', 'e', 'f', 'g', 'h', 'i', 'j', 'k', 'l', 'm', 'n', 'o', 'p', 'q', 'r', 's', 't', 'u', 'v', 'w', 'x', 'y', 'z', '0', '1', '2', '3', '4', '5', '6', '7', '8', '9', '10', '11', '12', '13', '14', '15', '16', '17', '18', '19', '20', '21', '22', '23', '24', '25', '26', '27', '28', '29', '30', '31', '32', '33', '34', '35', '36', '37', '38', '39', '40', '41', '42', '43', '44', '45', '46', '47', '48', '49', '50', '51', '52', '53', '54', '55', '56', '57', '58', '59', '60', '61', '62', '63', '64', '65', '66', '67', '68', '69', '70', '71', '72', '73', '74', '75', '76', '77', '78', '79', '80', '81', '82', '83', '84', '85', '86', '87', '88', '89', '90', '91', '92', '93', '94', '95', '96', '97', '98', '99', '100', '101', '102', '103', '104', '105', '106', '107', '108', '109', '110', '111', '112', '113', '114', '115', '116', '117', '118', '119', '120', '121', '122', '123', '124', '125', '126', '127', '128', '129', '130', '131', '132', '133', '134', '135', '136', '137', '138', '139', '140', '141', '142', '143', '144', '145', '146', '147', '148', '149', '150', '151', '152', '153', '154', '155', '156', '157', '158', '159', '160', '161', '162', '163', '164', '165', '166', '167', '168', '169', '170', '171', '172', '173', '174', '175', '176', '177', '178', '179', '180', '181', '182', '183', '184', '185', '186', '187', '188', '189', '190', '191', '192', '193', '194', '195', '196', '197', '198', '199', '200', '201', '202', '203', '204', '205', '206', '207', '208', '209', '210', '211', '212', '213', '214', '215', '216', '217', '218', '219', '220', '221', '222', '223', '224', '225', '226', '227', '228', '229', '230', '231', '232', '233', '234', '235', '236', '237', '238', '239', '240', '241', '242', '243', '244', '245', '246', '247', '248', '249', '250', '251', '252', '253', '254', '255', '256', '257', '258', '259', '260', '261', '262', '263', '264', '265', '266', '267', '268', '269', '270', '271', '272', '273', '274', '275', '276', '277', '278', '279', '280', '281', '282', '283', '284', '285', '286', '287', '288', '289', '290', '291', '292', '293', '294', '295', '296', '297', '298', '299']\n"
          ]
        }
      ]
    },
    {
      "cell_type": "code",
      "source": [
        "import random\n",
        "for i, b in enumerate(batch):\n",
        "        masked_chains = b['masked_list']\n",
        "        visible_chains = b['visible_list']\n",
        "        all_chains = masked_chains + visible_chains\n",
        "        visible_temp_dict = {}\n",
        "        masked_temp_dict = {}\n",
        "        for step, letter in enumerate(all_chains):\n",
        "            chain_seq = b[f'seq_chain_{letter}']\n",
        "            if letter in visible_chains:\n",
        "                visible_temp_dict[letter] = chain_seq\n",
        "            elif letter in masked_chains:\n",
        "                masked_temp_dict[letter] = chain_seq\n",
        "        for km, vm in masked_temp_dict.items():\n",
        "            for kv, vv in visible_temp_dict.items():\n",
        "                if vm == vv:\n",
        "                    if kv not in masked_chains:\n",
        "                        masked_chains.append(kv)\n",
        "                    if kv in visible_chains:\n",
        "                        visible_chains.remove(kv)\n",
        "        all_chains = masked_chains + visible_chains\n",
        "        random.shuffle(all_chains) #randomly shuffle chain order"
      ],
      "metadata": {
        "id": "5RYXm40jMI6U"
      },
      "execution_count": 74,
      "outputs": []
    },
    {
      "cell_type": "code",
      "source": [
        "masked_temp_dict"
      ],
      "metadata": {
        "colab": {
          "base_uri": "https://localhost:8080/"
        },
        "id": "iqX8vWSgNpEB",
        "outputId": "98a35a86-ca02-4a1d-9769-f4b7911d9e4b"
      },
      "execution_count": 68,
      "outputs": [
        {
          "output_type": "execute_result",
          "data": {
            "text/plain": [
              "{'X': 'ACDEFGHIKLMNPQRSTVWY', 'Y': 'ABCDEFGHIJKLM'}"
            ]
          },
          "metadata": {},
          "execution_count": 68
        }
      ]
    },
    {
      "cell_type": "code",
      "source": [
        "all_chains = masked_chains + visible_chains\n",
        "random.shuffle(all_chains) #randomly shuffle chain order\n",
        "print(all_chains)"
      ],
      "metadata": {
        "colab": {
          "base_uri": "https://localhost:8080/"
        },
        "id": "3q8_3ecQSu0R",
        "outputId": "f024b949-793a-463a-f04f-ac9e210bbd20"
      },
      "execution_count": 69,
      "outputs": [
        {
          "output_type": "stream",
          "name": "stdout",
          "text": [
            "['Y', 'Z', 'X']\n"
          ]
        }
      ]
    },
    {
      "cell_type": "code",
      "source": [
        "num_chains = b['num_of_chains']\n",
        "mask_dict = {}\n",
        "x_chain_list = []\n",
        "chain_mask_list = []\n",
        "chain_seq_list = []\n",
        "chain_encoding_list = []\n",
        "c = 1  # chain code\n",
        "l0 = 0\n",
        "l1 = 0\n",
        "\n",
        "for step, letter in enumerate(all_chains):\n",
        "  if letter in visible_chains:\n",
        "      chain_seq = b[f'seq_chain_{letter}']\n",
        "      chain_length = len(chain_seq)\n",
        "      chain_coords = b[f'coords_chain_{letter}'] #this is a dictionary\n",
        "      chain_mask = np.zeros(chain_length) #0.0 for visible chains\n",
        "      x_chain = np.stack([chain_coords[c] for c in [f'N_chain_{letter}', f'CA_chain_{letter}', f'C_chain_{letter}', f'O_chain_{letter}']], 1) #[chain_length,4,3]\n",
        "      x_chain_list.append(x_chain)\n",
        "      chain_mask_list.append(chain_mask)\n",
        "      chain_seq_list.append(chain_seq)\n",
        "      chain_encoding_list.append(c*np.ones(np.array(chain_mask).shape[0]))\n",
        "      l1 += chain_length\n",
        "      mask_self[i, l0:l1, l0:l1] = np.zeros([chain_length, chain_length])\n",
        "      residue_idx[i, l0:l1] = 100*(c-1)+np.arange(l0, l1)\n",
        "      l0 += chain_length\n",
        "      c+=1\n",
        "  elif letter in masked_chains:\n",
        "      chain_seq = b[f'seq_chain_{letter}']\n",
        "      chain_length = len(chain_seq)\n",
        "      chain_coords = b[f'coords_chain_{letter}'] #this is a dictionary\n",
        "      chain_mask = np.ones(chain_length) #0.0 for visible chains\n",
        "      x_chain = np.stack([chain_coords[c] for c in [f'N_chain_{letter}', f'CA_chain_{letter}', f'C_chain_{letter}', f'O_chain_{letter}']], 1) #[chain_lenght,4,3]\n",
        "      x_chain_list.append(x_chain)\n",
        "      chain_mask_list.append(chain_mask)\n",
        "      chain_seq_list.append(chain_seq)\n",
        "      chain_encoding_list.append(c*np.ones(np.array(chain_mask).shape[0]))\n",
        "      l1 += chain_length\n",
        "      mask_self[i, l0:l1, l0:l1] = np.zeros([chain_length, chain_length])\n",
        "      residue_idx[i, l0:l1] = 100*(c-1)+np.arange(l0, l1)\n",
        "      l0 += chain_length\n",
        "      c+=1"
      ],
      "metadata": {
        "id": "RC-L6dtkQ7HG"
      },
      "execution_count": 75,
      "outputs": []
    },
    {
      "cell_type": "code",
      "source": [
        "len(x_chain_list)\n",
        "print(x_chain_list[0].shape)\n",
        "print(x_chain_list[1].shape)\n",
        "print(x_chain_list[2].shape)"
      ],
      "metadata": {
        "colab": {
          "base_uri": "https://localhost:8080/"
        },
        "id": "7xc9MuRBSFs6",
        "outputId": "6964f515-c909-4918-ddbc-f92600d77076"
      },
      "execution_count": 76,
      "outputs": [
        {
          "output_type": "stream",
          "name": "stdout",
          "text": [
            "(11, 4, 3)\n",
            "(13, 4, 3)\n",
            "(20, 4, 3)\n"
          ]
        }
      ]
    },
    {
      "cell_type": "code",
      "source": [
        "print(chain_mask_list[0])\n",
        "print(chain_mask_list[1])\n",
        "print(chain_mask_list[2])"
      ],
      "metadata": {
        "colab": {
          "base_uri": "https://localhost:8080/"
        },
        "id": "FGKE1qrOUeyB",
        "outputId": "a1891a84-e127-46ca-f691-a7110e97854e"
      },
      "execution_count": 78,
      "outputs": [
        {
          "output_type": "stream",
          "name": "stdout",
          "text": [
            "[0. 0. 0. 0. 0. 0. 0. 0. 0. 0. 0.]\n",
            "[1. 1. 1. 1. 1. 1. 1. 1. 1. 1. 1. 1. 1.]\n",
            "[1. 1. 1. 1. 1. 1. 1. 1. 1. 1. 1. 1. 1. 1. 1. 1. 1. 1. 1. 1.]\n"
          ]
        }
      ]
    },
    {
      "cell_type": "code",
      "source": [
        "print(chain_seq_list[0])\n",
        "print(chain_seq_list[1])\n",
        "print(chain_seq_list[2])"
      ],
      "metadata": {
        "colab": {
          "base_uri": "https://localhost:8080/"
        },
        "id": "RisjsNUHVA15",
        "outputId": "11571e6d-a3a3-4c05-a0a2-2470c344bf8d"
      },
      "execution_count": 79,
      "outputs": [
        {
          "output_type": "stream",
          "name": "stdout",
          "text": [
            "JKLMNOPQRST\n",
            "ABCDEFGHIJKLM\n",
            "ACDEFGHIKLMNPQRSTVWY\n"
          ]
        }
      ]
    },
    {
      "cell_type": "code",
      "source": [
        "print(chain_encoding_list[0])\n",
        "print(chain_encoding_list[1])\n",
        "print(chain_encoding_list[2])"
      ],
      "metadata": {
        "colab": {
          "base_uri": "https://localhost:8080/"
        },
        "id": "X5MTzSAoVUdI",
        "outputId": "ec1a491b-6216-4054-b03a-f86e74798c53"
      },
      "execution_count": 80,
      "outputs": [
        {
          "output_type": "stream",
          "name": "stdout",
          "text": [
            "[1. 1. 1. 1. 1. 1. 1. 1. 1. 1. 1.]\n",
            "[2. 2. 2. 2. 2. 2. 2. 2. 2. 2. 2. 2. 2.]\n",
            "[3. 3. 3. 3. 3. 3. 3. 3. 3. 3. 3. 3. 3. 3. 3. 3. 3. 3. 3. 3.]\n"
          ]
        }
      ]
    },
    {
      "cell_type": "code",
      "source": [
        "print(mask_self[1,:13,:13])"
      ],
      "metadata": {
        "colab": {
          "base_uri": "https://localhost:8080/"
        },
        "id": "FuoOABG3Vg5_",
        "outputId": "2e6e91d2-4eca-4314-a29d-88fdb59fb4dd"
      },
      "execution_count": 83,
      "outputs": [
        {
          "output_type": "stream",
          "name": "stdout",
          "text": [
            "[[0 0 0 0 0 0 0 0 0 0 0 1 1]\n",
            " [0 0 0 0 0 0 0 0 0 0 0 1 1]\n",
            " [0 0 0 0 0 0 0 0 0 0 0 1 1]\n",
            " [0 0 0 0 0 0 0 0 0 0 0 1 1]\n",
            " [0 0 0 0 0 0 0 0 0 0 0 1 1]\n",
            " [0 0 0 0 0 0 0 0 0 0 0 1 1]\n",
            " [0 0 0 0 0 0 0 0 0 0 0 1 1]\n",
            " [0 0 0 0 0 0 0 0 0 0 0 1 1]\n",
            " [0 0 0 0 0 0 0 0 0 0 0 1 1]\n",
            " [0 0 0 0 0 0 0 0 0 0 0 1 1]\n",
            " [0 0 0 0 0 0 0 0 0 0 0 1 1]\n",
            " [1 1 1 1 1 1 1 1 1 1 1 0 0]\n",
            " [1 1 1 1 1 1 1 1 1 1 1 0 0]]\n"
          ]
        }
      ]
    },
    {
      "cell_type": "code",
      "source": [
        "residue_idx[1]  # for different chain, idx is hopped with 100."
      ],
      "metadata": {
        "colab": {
          "base_uri": "https://localhost:8080/"
        },
        "id": "LMwlobjRVwMn",
        "outputId": "c6e432c6-7e5c-47e8-d26c-aec42c2d9f86"
      },
      "execution_count": 84,
      "outputs": [
        {
          "output_type": "execute_result",
          "data": {
            "text/plain": [
              "array([  0,   1,   2,   3,   4,   5,   6,   7,   8,   9,  10, 111, 112,\n",
              "       113, 114, 115, 116, 117, 118, 119, 120, 121, 122, 123, 224, 225,\n",
              "       226, 227, 228, 229, 230, 231, 232, 233, 234, 235, 236, 237, 238,\n",
              "       239, 240, 241, 242, 243], dtype=int32)"
            ]
          },
          "metadata": {},
          "execution_count": 84
        }
      ]
    },
    {
      "cell_type": "code",
      "source": [
        "#concat list\n",
        "x = np.concatenate(x_chain_list,0) #[L, 4, 3]\n",
        "all_sequence = \"\".join(chain_seq_list)\n",
        "m = np.concatenate(chain_mask_list,0) #[L,], 1.0 for places that need to be predicted\n",
        "chain_encoding = np.concatenate(chain_encoding_list,0)\n",
        "\n",
        "print(x.shape)\n",
        "print(len(all_sequence))\n",
        "print(m.shape)\n",
        "print(chain_encoding.shape)\n"
      ],
      "metadata": {
        "colab": {
          "base_uri": "https://localhost:8080/"
        },
        "id": "FjjFuE_JWSgY",
        "outputId": "288026b1-fd8a-47bf-9138-ee50f76d637e"
      },
      "execution_count": 85,
      "outputs": [
        {
          "output_type": "stream",
          "name": "stdout",
          "text": [
            "(44, 4, 3)\n",
            "44\n",
            "(44,)\n",
            "(44,)\n"
          ]
        }
      ]
    },
    {
      "cell_type": "code",
      "source": [
        "l = len(all_sequence)\n",
        "x_pad = np.pad(x, [[0,L_max-l], [0,0], [0,0]], 'constant', constant_values=(np.nan, ))\n",
        "X[i,:,:,:] = x_pad  # [bath, L_max, 4, 3]\n",
        "\n",
        "m_pad = np.pad(m, [[0,L_max-l]], 'constant', constant_values=(0.0, ))\n",
        "chain_M[i,:] = m_pad #[bath, L_max]\n",
        "\n",
        "chain_encoding_pad = np.pad(chain_encoding, [[0,L_max-l]], 'constant', constant_values=(0.0, ))\n",
        "chain_encoding_all[i,:] = chain_encoding_pad"
      ],
      "metadata": {
        "id": "Me8mhPW0W603"
      },
      "execution_count": 86,
      "outputs": []
    },
    {
      "cell_type": "code",
      "source": [
        "#x_pad"
      ],
      "metadata": {
        "id": "s-O__XQhd1Db"
      },
      "execution_count": 99,
      "outputs": []
    },
    {
      "cell_type": "code",
      "source": [
        "m_pad"
      ],
      "metadata": {
        "colab": {
          "base_uri": "https://localhost:8080/"
        },
        "id": "7yzMVE-2YKiI",
        "outputId": "1acfd066-2b9f-471f-a159-ce767990c437"
      },
      "execution_count": 90,
      "outputs": [
        {
          "output_type": "execute_result",
          "data": {
            "text/plain": [
              "array([0., 0., 0., 0., 0., 0., 0., 0., 0., 0., 0., 1., 1., 1., 1., 1., 1.,\n",
              "       1., 1., 1., 1., 1., 1., 1., 1., 1., 1., 1., 1., 1., 1., 1., 1., 1.,\n",
              "       1., 1., 1., 1., 1., 1., 1., 1., 1., 1.])"
            ]
          },
          "metadata": {},
          "execution_count": 90
        }
      ]
    },
    {
      "cell_type": "code",
      "source": [
        "chain_encoding_pad"
      ],
      "metadata": {
        "colab": {
          "base_uri": "https://localhost:8080/"
        },
        "id": "mc05mraoZLVF",
        "outputId": "397c8522-c436-482c-e015-fa05f6a4428c"
      },
      "execution_count": 91,
      "outputs": [
        {
          "output_type": "execute_result",
          "data": {
            "text/plain": [
              "array([1., 1., 1., 1., 1., 1., 1., 1., 1., 1., 1., 2., 2., 2., 2., 2., 2.,\n",
              "       2., 2., 2., 2., 2., 2., 2., 3., 3., 3., 3., 3., 3., 3., 3., 3., 3.,\n",
              "       3., 3., 3., 3., 3., 3., 3., 3., 3., 3.])"
            ]
          },
          "metadata": {},
          "execution_count": 91
        }
      ]
    },
    {
      "cell_type": "code",
      "source": [
        "all_sequence"
      ],
      "metadata": {
        "colab": {
          "base_uri": "https://localhost:8080/",
          "height": 35
        },
        "id": "2mQ95BWRaQPT",
        "outputId": "9df882bc-12c1-43de-a32e-a2739df05f99"
      },
      "execution_count": 97,
      "outputs": [
        {
          "output_type": "execute_result",
          "data": {
            "text/plain": [
              "'JKLMNOPQRSTABCDEFGHIJKLMACDEFGHIKLMNPQRSTVWY'"
            ],
            "application/vnd.google.colaboratory.intrinsic+json": {
              "type": "string"
            }
          },
          "metadata": {},
          "execution_count": 97
        }
      ]
    },
    {
      "cell_type": "code",
      "source": [
        "isnan = np.isnan(X)\n",
        "mask = np.isfinite(np.sum(X,(2,3))).astype(np.float32)\n",
        "X[isnan] = 0."
      ],
      "metadata": {
        "id": "p6LLX1uVZ3PC"
      },
      "execution_count": 100,
      "outputs": []
    },
    {
      "cell_type": "code",
      "source": [
        "mask  # here no padding is added as it is the longest sequence, so no zero"
      ],
      "metadata": {
        "colab": {
          "base_uri": "https://localhost:8080/"
        },
        "id": "t_ERp_Q0aI5g",
        "outputId": "3910199b-e5f0-43e2-e6e1-97de17ff13a1"
      },
      "execution_count": 101,
      "outputs": [
        {
          "output_type": "execute_result",
          "data": {
            "text/plain": [
              "array([[1., 1., 1., 1., 1., 1., 1., 1., 1., 1., 1., 1., 1., 1., 1., 1.,\n",
              "        1., 1., 1., 1., 1., 1., 1., 1., 1., 1., 1., 1., 1., 1., 1., 1.,\n",
              "        1., 1., 1., 1., 1., 1., 1., 1., 1., 1., 1., 1.],\n",
              "       [1., 1., 1., 1., 1., 1., 1., 1., 1., 1., 1., 1., 1., 1., 1., 1.,\n",
              "        1., 1., 1., 1., 1., 1., 1., 1., 1., 1., 1., 1., 1., 1., 1., 1.,\n",
              "        1., 1., 1., 1., 1., 1., 1., 1., 1., 1., 1., 1.]], dtype=float32)"
            ]
          },
          "metadata": {},
          "execution_count": 101
        }
      ]
    },
    {
      "cell_type": "code",
      "source": [],
      "metadata": {
        "id": "ASQFoHrMeLK8"
      },
      "execution_count": null,
      "outputs": []
    }
  ]
}