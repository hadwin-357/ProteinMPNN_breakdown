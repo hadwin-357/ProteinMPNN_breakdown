{
  "nbformat": 4,
  "nbformat_minor": 0,
  "metadata": {
    "colab": {
      "provenance": [],
      "authorship_tag": "ABX9TyO5yu3j8cygVZMjpy5Zdbar",
      "include_colab_link": true
    },
    "kernelspec": {
      "name": "python3",
      "display_name": "Python 3"
    },
    "language_info": {
      "name": "python"
    }
  },
  "cells": [
    {
      "cell_type": "markdown",
      "metadata": {
        "id": "view-in-github",
        "colab_type": "text"
      },
      "source": [
        "<a href=\"https://colab.research.google.com/github/hadwin-357/ProteinMPNN_breakdown/blob/main/model_utils_function_6_positional_embedding_.ipynb\" target=\"_parent\"><img src=\"https://colab.research.google.com/assets/colab-badge.svg\" alt=\"Open In Colab\"/></a>"
      ]
    },
    {
      "cell_type": "code",
      "execution_count": null,
      "metadata": {
        "id": "LnsyGe_NyMwb"
      },
      "outputs": [],
      "source": [
        "#test model utils function\n",
        "# positional embedding\n",
        "'''\n",
        "inputs:  num_embedding - embedding dimension, max_relative_feature - cut off for inter residue interaction\n",
        "offset: tensor of relative distance between residuex index\n",
        "\n",
        "Function explain:\n",
        "1. only [-max_relative_fature, max_relative_feature] will be considered effective distance\n",
        "2. offset out of the effective range, is noted as 2*max_relative_feature +1\n",
        "3. shift offset in effective range to positive [0, 2*max_relative_feature]\n",
        "4. generate onehot encoding with dimensiont 2*max_relative_feature +1+1  # [0,2*max_relative_feature +1 ]\n",
        "5. do MLP to generate trainable postional embeddeing with num_embedding dimension\n",
        "\n",
        "Return:\n",
        "E: trainable positional embedding   [ , num_embedding]\n",
        "'''"
      ]
    },
    {
      "cell_type": "code",
      "source": [
        "class PositionalEncodings(nn.Module):\n",
        "    def __init__(self, num_embeddings, max_relative_feature=32):\n",
        "        super(PositionalEncodings, self).__init__()\n",
        "        self.num_embeddings = num_embeddings\n",
        "        self.max_relative_feature = max_relative_feature\n",
        "        self.linear = nn.Linear(2*max_relative_feature+1+1, num_embeddings)\n",
        "\n",
        "    def forward(self, offset, mask):\n",
        "        d = torch.clip(offset + self.max_relative_feature, 0, 2*self.max_relative_feature)*mask + (1-mask)*(2*self.max_relative_feature+1)\n",
        "        d_onehot = torch.nn.functional.one_hot(d, 2*self.max_relative_feature+1+1)\n",
        "        E = self.linear(d_onehot.float())\n",
        "        return E"
      ],
      "metadata": {
        "id": "eZ5z1lG58lVa"
      },
      "execution_count": 3,
      "outputs": []
    },
    {
      "cell_type": "code",
      "source": [
        "import torch\n",
        "import torch.nn as nn\n",
        "\n",
        "# Example usage\n",
        "num_embeddings = 10  # Number of output embeddings\n",
        "max_relative_feature = 3  # Maximum relative feature\n",
        "\n",
        "# Create an instance of PositionalEncodings\n",
        "pos_encodings = PositionalEncodings(num_embeddings, max_relative_feature)\n",
        "\n",
        "# Generate some sample data\n",
        "offset = torch.tensor([[0, 1, 2, 3], [-1, 0, 1, 4]])  # Relative offset of positions\n",
        "mask = torch.tensor([[1, 1, 0, 1], [1, 1, 1, 1]])     # Binary mask indicating which positions to consider\n",
        "\n",
        "# Forward pass through the PositionalEncodings module\n",
        "output_embeddings = pos_encodings(offset, mask)\n",
        "\n",
        "print(\"Output embeddings:\")\n",
        "print(output_embeddings)\n"
      ],
      "metadata": {
        "colab": {
          "base_uri": "https://localhost:8080/"
        },
        "id": "L58Gye4FFHk8",
        "outputId": "48d8b49e-2947-4176-9d51-c707483cb84b"
      },
      "execution_count": 4,
      "outputs": [
        {
          "output_type": "stream",
          "name": "stdout",
          "text": [
            "Output embeddings:\n",
            "tensor([[[-0.1943, -0.0680, -0.0904, -0.0353, -0.2950, -0.4314,  0.0384,\n",
            "          -0.0398, -0.2900,  0.1954],\n",
            "         [-0.1738, -0.5044, -0.4461,  0.1775, -0.4461, -0.2965,  0.5042,\n",
            "           0.1289, -0.2309,  0.0477],\n",
            "         [-0.3550, -0.0270, -0.3596,  0.1300, -0.6334,  0.1781,  0.0190,\n",
            "          -0.1367, -0.4597, -0.2480],\n",
            "         [-0.4692, -0.2868,  0.1567, -0.1909, -0.1305,  0.1703,  0.0346,\n",
            "          -0.2905, -0.4425, -0.2349]],\n",
            "\n",
            "        [[-0.1740, -0.0297, -0.0584,  0.0007, -0.0610, -0.0790, -0.0027,\n",
            "          -0.0373, -0.5962, -0.0238],\n",
            "         [-0.1943, -0.0680, -0.0904, -0.0353, -0.2950, -0.4314,  0.0384,\n",
            "          -0.0398, -0.2900,  0.1954],\n",
            "         [-0.1738, -0.5044, -0.4461,  0.1775, -0.4461, -0.2965,  0.5042,\n",
            "           0.1289, -0.2309,  0.0477],\n",
            "         [-0.4692, -0.2868,  0.1567, -0.1909, -0.1305,  0.1703,  0.0346,\n",
            "          -0.2905, -0.4425, -0.2349]]], grad_fn=<ViewBackward0>)\n"
          ]
        }
      ]
    },
    {
      "cell_type": "code",
      "source": [
        "# shift the offset non-negative then clip between (0, 2*max_realtive feature), if not masked then label as  2*max_relative_feature+1\n",
        "d = torch.clip(offset + max_relative_feature, 0, 2*max_relative_feature)*mask + (1-mask)*(2*max_relative_feature+1)\n",
        "d"
      ],
      "metadata": {
        "colab": {
          "base_uri": "https://localhost:8080/"
        },
        "id": "6oBr2ODbFbe7",
        "outputId": "fccdff5e-e0d2-45ed-b1a0-12ba7a7e9258"
      },
      "execution_count": 5,
      "outputs": [
        {
          "output_type": "execute_result",
          "data": {
            "text/plain": [
              "tensor([[3, 4, 7, 6],\n",
              "        [2, 3, 4, 6]])"
            ]
          },
          "metadata": {},
          "execution_count": 5
        }
      ]
    },
    {
      "cell_type": "code",
      "source": [
        "#then turn d into one-hot encoding\n",
        "d_onehot = torch.nn.functional.one_hot(d, 2*max_relative_feature+1+1)\n",
        "d_onehot.shape"
      ],
      "metadata": {
        "colab": {
          "base_uri": "https://localhost:8080/"
        },
        "id": "XJ0wEqrKNHHE",
        "outputId": "d4110aef-e412-4b16-a389-6abc8c467cb0"
      },
      "execution_count": 6,
      "outputs": [
        {
          "output_type": "execute_result",
          "data": {
            "text/plain": [
              "torch.Size([2, 4, 8])"
            ]
          },
          "metadata": {},
          "execution_count": 6
        }
      ]
    },
    {
      "cell_type": "code",
      "source": [
        "#followed by MLP to get the trainable postional embedding\n",
        "[2,4, 8] ---> [2, 4, num_embeddings]\n",
        "output_embeddings.shape\n"
      ],
      "metadata": {
        "colab": {
          "base_uri": "https://localhost:8080/"
        },
        "id": "NeEEgh3yNcoT",
        "outputId": "dcd2e3eb-22dd-402e-856b-4e14c0229228"
      },
      "execution_count": 7,
      "outputs": [
        {
          "output_type": "execute_result",
          "data": {
            "text/plain": [
              "torch.Size([2, 4, 10])"
            ]
          },
          "metadata": {},
          "execution_count": 7
        }
      ]
    },
    {
      "cell_type": "code",
      "source": [
        "\n"
      ],
      "metadata": {
        "id": "ZUlf4NItN7qp"
      },
      "execution_count": null,
      "outputs": []
    }
  ]
}