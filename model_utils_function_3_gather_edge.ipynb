{
  "nbformat": 4,
  "nbformat_minor": 0,
  "metadata": {
    "colab": {
      "provenance": [],
      "authorship_tag": "ABX9TyMzqHY3dip3vCObPdSh2EHW",
      "include_colab_link": true
    },
    "kernelspec": {
      "name": "python3",
      "display_name": "Python 3"
    },
    "language_info": {
      "name": "python"
    }
  },
  "cells": [
    {
      "cell_type": "markdown",
      "metadata": {
        "id": "view-in-github",
        "colab_type": "text"
      },
      "source": [
        "<a href=\"https://colab.research.google.com/github/hadwin-357/ProteinMPNN_breakdown/blob/main/model_utils_function_3_gather_edge.ipynb\" target=\"_parent\"><img src=\"https://colab.research.google.com/assets/colab-badge.svg\" alt=\"Open In Colab\"/></a>"
      ]
    },
    {
      "cell_type": "code",
      "execution_count": null,
      "metadata": {
        "id": "0WgGTeC86Pqc"
      },
      "outputs": [],
      "source": [
        "#test model utils function\n",
        "# graphic neuro network function\n",
        "# gether edge\n",
        "'''\n",
        "inputs:  edges (B, N, N, C) # Batch, node, node, feature  # this is a fully connected, self looped GNN\n",
        "neighbor_idx (B, N, K) # Batch, node, index for k-nearest neighbors\n",
        "\n",
        "Return:\n",
        "Based on N (node index), K(neighbor, index)to gather according features from edges\n",
        "'''"
      ]
    },
    {
      "cell_type": "code",
      "source": [
        "#Test functions 1: gather_edge\n",
        "def gather_edges(edges, neighbor_idx):\n",
        "  # Features [B,N,N,C] at Neighbor indices [B,N,K] => Neighbor features [B,N,K,C]\n",
        "  neighbor=neighbor_idx.unsqueeze(-1).expand(-1, -1, -1, edges.size(-1))# [B,N,K] => Neighbor features [B,N,K,C]\n",
        "  edge_features=torch.gather(edges, 2, neighbor)\n",
        "  return edge_features"
      ],
      "metadata": {
        "id": "IcGOFDRn66S3"
      },
      "execution_count": 5,
      "outputs": []
    },
    {
      "cell_type": "code",
      "source": [
        "import torch\n",
        "\n",
        "# Create random edge features\n",
        "edges = torch.randn(2, 3, 3, 2)  # Batch size = 2, Number of nodes = 3, Number of features = 2\n",
        "\n",
        "# Create random neighbor indices\n",
        "neighbor_idx = torch.randint(0, 3, (2, 3, 2))  # Batch size = 2, Number of nodes = 3, Number of neighbors = 2\n"
      ],
      "metadata": {
        "id": "9rRemlpE6Qkj"
      },
      "execution_count": 1,
      "outputs": []
    },
    {
      "cell_type": "code",
      "source": [
        "neighbor_idx[0,0,:] # batch 0, node 0 according two neighbors (1, 1), In reality, the two neighbors should be different"
      ],
      "metadata": {
        "colab": {
          "base_uri": "https://localhost:8080/"
        },
        "id": "KbplORdP6Rk2",
        "outputId": "204af256-f226-4ed6-f542-657f6afd397b"
      },
      "execution_count": 3,
      "outputs": [
        {
          "output_type": "execute_result",
          "data": {
            "text/plain": [
              "tensor([1, 1])"
            ]
          },
          "metadata": {},
          "execution_count": 3
        }
      ]
    },
    {
      "cell_type": "code",
      "source": [
        "# Gather edge features\n",
        "edge_features = gather_edges(edges, neighbor_idx)\n",
        "\n",
        "print(\"Shape of edge_features:\", edge_features.shape)\n",
        "print(\"Edge features tensor:\")\n",
        "print(edge_features)\n"
      ],
      "metadata": {
        "colab": {
          "base_uri": "https://localhost:8080/"
        },
        "id": "1fEua4zt6Wo3",
        "outputId": "70860e3a-d11f-46a4-e1d9-dc1f63234c9d"
      },
      "execution_count": 6,
      "outputs": [
        {
          "output_type": "stream",
          "name": "stdout",
          "text": [
            "Shape of edge_features: torch.Size([2, 3, 2, 2])\n",
            "Edge features tensor:\n",
            "tensor([[[[-0.4292,  1.4102],\n",
            "          [-0.4292,  1.4102]],\n",
            "\n",
            "         [[ 1.5641, -0.5656],\n",
            "          [-1.0257,  1.2498]],\n",
            "\n",
            "         [[ 1.1425, -1.6480],\n",
            "          [ 1.3194, -0.9216]]],\n",
            "\n",
            "\n",
            "        [[[-1.5294, -1.2688],\n",
            "          [ 0.0638, -0.0996]],\n",
            "\n",
            "         [[-0.3082, -1.3900],\n",
            "          [-0.3082, -1.3900]],\n",
            "\n",
            "         [[ 1.7021, -0.7098],\n",
            "          [ 1.4389, -0.2297]]]])\n"
          ]
        }
      ]
    },
    {
      "cell_type": "code",
      "source": [
        "edges[0,0,1,:] # edge feature for batch 0, node 0-node 1 edge"
      ],
      "metadata": {
        "colab": {
          "base_uri": "https://localhost:8080/"
        },
        "id": "eTiDEPoQ7-LO",
        "outputId": "f55c8a4c-185e-46fd-eda7-f99ad9510d08"
      },
      "execution_count": 13,
      "outputs": [
        {
          "output_type": "execute_result",
          "data": {
            "text/plain": [
              "tensor([-0.4292,  1.4102])"
            ]
          },
          "metadata": {},
          "execution_count": 13
        }
      ]
    },
    {
      "cell_type": "code",
      "source": [
        "edge_features[0,0,1,:]  # edge feature for batch 0, node 0-#neighour 1 edge  # both neighbors are 1"
      ],
      "metadata": {
        "colab": {
          "base_uri": "https://localhost:8080/"
        },
        "id": "YAIzXen28XeF",
        "outputId": "e61d3746-57d9-41a4-beed-a8024af4b963"
      },
      "execution_count": 12,
      "outputs": [
        {
          "output_type": "execute_result",
          "data": {
            "text/plain": [
              "tensor([-0.4292,  1.4102])"
            ]
          },
          "metadata": {},
          "execution_count": 12
        }
      ]
    },
    {
      "cell_type": "code",
      "source": [],
      "metadata": {
        "id": "hgW9O6_t88Ig"
      },
      "execution_count": null,
      "outputs": []
    }
  ]
}